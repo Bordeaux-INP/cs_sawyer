{
 "cells": [
  {
   "cell_type": "code",
   "execution_count": 1,
   "metadata": {},
   "outputs": [],
   "source": [
    "import intera_interface\n",
    "import rospy\n",
    "import json\n",
    "import tf\n",
    "from copy import deepcopy\n",
    "from sawyer import transformations"
   ]
  },
  {
   "cell_type": "code",
   "execution_count": 2,
   "metadata": {},
   "outputs": [],
   "source": [
    "rospy.init_node(\"sawyer_example\")"
   ]
  },
  {
   "cell_type": "code",
   "execution_count": 3,
   "metadata": {},
   "outputs": [],
   "source": [
    "effector = \"right_hand\"\n",
    "world = \"world\""
   ]
  },
  {
   "cell_type": "code",
   "execution_count": 4,
   "metadata": {},
   "outputs": [],
   "source": [
    "tfl = tf.TransformListener(interpolate=True, cache_time=rospy.Duration(1000))\n",
    "tfb = tf.TransformBroadcaster()"
   ]
  },
  {
   "cell_type": "code",
   "execution_count": 5,
   "metadata": {},
   "outputs": [],
   "source": [
    "rs = intera_interface.RobotEnable(intera_interface.CHECK_VERSION)"
   ]
  },
  {
   "cell_type": "code",
   "execution_count": 6,
   "metadata": {},
   "outputs": [
    {
     "name": "stdout",
     "output_type": "stream",
     "text": [
      "[INFO] [1555323982.790536]: Robot Enabled\n"
     ]
    }
   ],
   "source": [
    "rs.enable()"
   ]
  },
  {
   "cell_type": "code",
   "execution_count": 7,
   "metadata": {},
   "outputs": [],
   "source": [
    "limb = intera_interface.Limb('right')"
   ]
  },
  {
   "cell_type": "markdown",
   "metadata": {},
   "source": [
    "# Compute sticks in cartesian space"
   ]
  },
  {
   "cell_type": "code",
   "execution_count": 8,
   "metadata": {},
   "outputs": [],
   "source": [
    "# Base is [\"lower\"][\"left\"][0] for HOPE\n",
    "base_position = [-0.5, -0.7, 0.35]\n"
   ]
  },
  {
   "cell_type": "code",
   "execution_count": 9,
   "metadata": {},
   "outputs": [
    {
     "name": "stdout",
     "output_type": "stream",
     "text": [
      "(128, '+', 128, 'sticks generated')\n"
     ]
    }
   ],
   "source": [
    "# Starting from lower left (drawing direction)\n",
    "# \n",
    "sticks = {\"hope\": [], \"fear\": []}\n",
    "y_interval = 0.01     # Interval of sticks in y direction\n",
    "z_interval = 0.02      # Interval of sticks in z direction\n",
    "group_interval = 0.01  # Interval between each group in y direction\n",
    "num_groups = 8         # Number of stick groups per line\n",
    "num_sticks = 4         # Number of sticks per group\n",
    "height_stick = 0.03    # Length in z direction\n",
    "num_height = 8         # Number of sticks in z direction (in height)\n",
    "\n",
    "emotion = \"fear\"\n",
    "z_stick = base_position[2]\n",
    "col = 0\n",
    "for h in range(num_height):\n",
    "    y_stick = base_position[1]\n",
    "    for g in range(num_groups):\n",
    "        for i in range(num_sticks):\n",
    "            start_stick = [base_position[0], y_stick, z_stick]\n",
    "            end_stick = [base_position[0], y_stick, height_stick + z_stick]\n",
    "            sticks[emotion].append([start_stick, end_stick])\n",
    "\n",
    "            tfb.sendTransform(start_stick, [0, 0, 0, 1], rospy.Time.now(), str(col), \"world\")\n",
    "            tfb.sendTransform(end_stick, [0, 0, 0, 1], rospy.Time.now(), \"e\"+str(col), \"world\")\n",
    "            y_stick += y_interval\n",
    "            col += 1\n",
    "        y_stick += group_interval\n",
    "    z_stick += z_interval + height_stick\n",
    "    if len(sticks[\"fear\"]) == num_groups*num_height*num_sticks/2:\n",
    "        emotion = \"hope\"\n",
    "        z_stick += 0.02\n",
    "print(len(sticks[\"hope\"]), \"+\", len(sticks[\"fear\"]), \"sticks generated\")"
   ]
  },
  {
   "cell_type": "code",
   "execution_count": 12,
   "metadata": {},
   "outputs": [],
   "source": [
    "STICK_START = 0\n",
    "STICK_END = 1"
   ]
  },
  {
   "cell_type": "code",
   "execution_count": 13,
   "metadata": {},
   "outputs": [],
   "source": [
    "hand_T_stick = [[0.14239612794977008, 0.01701314337065485, -0.07630844138995452],\n",
    " [0.5270677868272005,\n",
    "  0.023880201241985057,\n",
    "  -0.8461224120032248,\n",
    "  0.07553904939543005]]"
   ]
  },
  {
   "cell_type": "markdown",
   "metadata": {},
   "source": [
    "# [Overwrite gripper!!!!] Read approximate hand_to_stick transformation"
   ]
  },
  {
   "cell_type": "code",
   "execution_count": null,
   "metadata": {},
   "outputs": [],
   "source": [
    "hope_lower_left = {u'right_j0': 1.611796875,\n",
    "                   u'right_j1': -2.75679296875,\n",
    "                   u'right_j2': -3.0216201171875,\n",
    "                   u'right_j3': 1.296830078125,\n",
    "                   u'right_j4': 1.161048828125,\n",
    "                   u'right_j5': -1.98382421875,\n",
    "                   u'right_j6': 1.0612880859375}"
   ]
  },
  {
   "cell_type": "code",
   "execution_count": null,
   "metadata": {},
   "outputs": [],
   "source": [
    "limb.move_to_joint_positions(hope_lower_left)\n",
    "# Move to extreme lower left in JOINT space"
   ]
  },
  {
   "cell_type": "code",
   "execution_count": null,
   "metadata": {},
   "outputs": [],
   "source": [
    "CONSIDERED_STICK = 0"
   ]
  },
  {
   "cell_type": "code",
   "execution_count": null,
   "metadata": {},
   "outputs": [],
   "source": [
    "stick_T_world = [sticks[CONSIDERED_STICK][STICK_START], [0, 0, 0, 1]]"
   ]
  },
  {
   "cell_type": "code",
   "execution_count": null,
   "metadata": {},
   "outputs": [],
   "source": [
    "hand_T_stick = list(tfl.lookupTransform(str(CONSIDERED_STICK), effector, rospy.Time(0)))"
   ]
  },
  {
   "cell_type": "code",
   "execution_count": null,
   "metadata": {},
   "outputs": [],
   "source": [
    "hand_T_stick"
   ]
  },
  {
   "cell_type": "code",
   "execution_count": null,
   "metadata": {},
   "outputs": [],
   "source": [
    "tfb.sendTransform(hand_T_stick[0], hand_T_stick[1], rospy.Time.now(), \"hand_T_stick\", str(CONSIDERED_STICK))"
   ]
  },
  {
   "cell_type": "code",
   "execution_count": null,
   "metadata": {},
   "outputs": [],
   "source": [
    "tfb.sendTransform(stick_T_world[0], stick_T_world[1], rospy.Time.now(), \"stick_T_world\", world)"
   ]
  },
  {
   "cell_type": "code",
   "execution_count": null,
   "metadata": {},
   "outputs": [],
   "source": [
    "hand_T_world = transformations.multiply_transform(stick_T_world, hand_T_stick)"
   ]
  },
  {
   "cell_type": "code",
   "execution_count": null,
   "metadata": {},
   "outputs": [],
   "source": [
    "tfb.sendTransform(hand_T_world[0], hand_T_world[1], rospy.Time.now(), \"hand_T_world\", world)"
   ]
  },
  {
   "cell_type": "code",
   "execution_count": null,
   "metadata": {},
   "outputs": [],
   "source": [
    "hand_T_world"
   ]
  },
  {
   "cell_type": "markdown",
   "metadata": {},
   "source": [
    "# Get and dump IK for each stick"
   ]
  },
  {
   "cell_type": "code",
   "execution_count": 11,
   "metadata": {},
   "outputs": [
    {
     "ename": "NameError",
     "evalue": "name 'STICK_START' is not defined",
     "output_type": "error",
     "traceback": [
      "\u001b[0;31m---------------------------------------------------------------------------\u001b[0m",
      "\u001b[0;31mNameError\u001b[0m                                 Traceback (most recent call last)",
      "\u001b[0;32m<ipython-input-11-087aa7f2d623>\u001b[0m in \u001b[0;36m<module>\u001b[0;34m()\u001b[0m\n\u001b[1;32m      2\u001b[0m \u001b[0;32mfor\u001b[0m \u001b[0memotion\u001b[0m \u001b[0;32min\u001b[0m \u001b[0mstick_ik\u001b[0m\u001b[0;34m:\u001b[0m\u001b[0;34m\u001b[0m\u001b[0m\n\u001b[1;32m      3\u001b[0m     \u001b[0;32mfor\u001b[0m \u001b[0mstick_id\u001b[0m\u001b[0;34m,\u001b[0m \u001b[0mstick\u001b[0m \u001b[0;32min\u001b[0m \u001b[0menumerate\u001b[0m\u001b[0;34m(\u001b[0m\u001b[0msticks\u001b[0m\u001b[0;34m[\u001b[0m\u001b[0memotion\u001b[0m\u001b[0;34m]\u001b[0m\u001b[0;34m)\u001b[0m\u001b[0;34m:\u001b[0m\u001b[0;34m\u001b[0m\u001b[0m\n\u001b[0;32m----> 4\u001b[0;31m         \u001b[0mhand_T_world\u001b[0m \u001b[0;34m=\u001b[0m \u001b[0mtransformations\u001b[0m\u001b[0;34m.\u001b[0m\u001b[0mmultiply_transform\u001b[0m\u001b[0;34m(\u001b[0m\u001b[0;34m[\u001b[0m\u001b[0mstick\u001b[0m\u001b[0;34m[\u001b[0m\u001b[0mSTICK_START\u001b[0m\u001b[0;34m]\u001b[0m\u001b[0;34m,\u001b[0m \u001b[0;34m[\u001b[0m\u001b[0;36m0\u001b[0m\u001b[0;34m,\u001b[0m\u001b[0;36m0\u001b[0m\u001b[0;34m,\u001b[0m\u001b[0;36m0\u001b[0m\u001b[0;34m,\u001b[0m\u001b[0;36m1\u001b[0m\u001b[0;34m]\u001b[0m\u001b[0;34m]\u001b[0m\u001b[0;34m,\u001b[0m \u001b[0mhand_T_stick\u001b[0m\u001b[0;34m)\u001b[0m\u001b[0;34m\u001b[0m\u001b[0m\n\u001b[0m\u001b[1;32m      5\u001b[0m         \u001b[0mtfb\u001b[0m\u001b[0;34m.\u001b[0m\u001b[0msendTransform\u001b[0m\u001b[0;34m(\u001b[0m\u001b[0mhand_T_world\u001b[0m\u001b[0;34m[\u001b[0m\u001b[0;36m0\u001b[0m\u001b[0;34m]\u001b[0m\u001b[0;34m,\u001b[0m \u001b[0mhand_T_world\u001b[0m\u001b[0;34m[\u001b[0m\u001b[0;36m1\u001b[0m\u001b[0;34m]\u001b[0m\u001b[0;34m,\u001b[0m \u001b[0mrospy\u001b[0m\u001b[0;34m.\u001b[0m\u001b[0mTime\u001b[0m\u001b[0;34m.\u001b[0m\u001b[0mnow\u001b[0m\u001b[0;34m(\u001b[0m\u001b[0;34m)\u001b[0m\u001b[0;34m,\u001b[0m \u001b[0;34m\"ik\"\u001b[0m\u001b[0;34m,\u001b[0m \u001b[0mworld\u001b[0m\u001b[0;34m)\u001b[0m\u001b[0;34m\u001b[0m\u001b[0m\n\u001b[1;32m      6\u001b[0m         \u001b[0mresult\u001b[0m \u001b[0;34m=\u001b[0m \u001b[0mlimb\u001b[0m\u001b[0;34m.\u001b[0m\u001b[0mik_request\u001b[0m\u001b[0;34m(\u001b[0m\u001b[0mtransformations\u001b[0m\u001b[0;34m.\u001b[0m\u001b[0mlist_to_pose\u001b[0m\u001b[0;34m(\u001b[0m\u001b[0mhand_T_world\u001b[0m\u001b[0;34m)\u001b[0m\u001b[0;34m)\u001b[0m\u001b[0;34m\u001b[0m\u001b[0m\n",
      "\u001b[0;31mNameError\u001b[0m: name 'STICK_START' is not defined"
     ]
    }
   ],
   "source": [
    "stick_ik = {\"hope\" : [], \"fear\": []}\n",
    "for emotion in stick_ik:\n",
    "    for stick_id, stick in enumerate(sticks[emotion]):\n",
    "        hand_T_world = transformations.multiply_transform([stick[STICK_START], [0,0,0,1]], hand_T_stick)\n",
    "        tfb.sendTransform(hand_T_world[0], hand_T_world[1], rospy.Time.now(), \"ik\", world)\n",
    "        result = limb.ik_request(transformations.list_to_pose(hand_T_world))\n",
    "        if result == False:\n",
    "            raise RuntimeError(emotion + \": can't compute stick start \" + str(stick_id))\n",
    "        hand_T_world_end = transformations.multiply_transform([stick[STICK_END], [0,0,0,1]], hand_T_stick)\n",
    "        tfb.sendTransform(hand_T_world_end[0], hand_T_world_end[1], rospy.Time.now(), \"eik\", world)\n",
    "        result_end = limb.ik_request(transformations.list_to_pose(hand_T_world_end))\n",
    "        if result == False:\n",
    "            raise RuntimeError(emotion + \": can't compute stick end \" + str(stick_id))\n",
    "        stick_ik[emotion].append({\"start\": result, \"end\": result_end})\n",
    "        #rospy.sleep(0.1)"
   ]
  },
  {
   "cell_type": "code",
   "execution_count": null,
   "metadata": {},
   "outputs": [],
   "source": [
    "with open(\"../config/sticks_target_ik.json\", \"w\") as f:\n",
    "    json.dump(stick_ik, f, indent=4)"
   ]
  },
  {
   "cell_type": "markdown",
   "metadata": {},
   "source": [
    "# Overwrite other poses"
   ]
  },
  {
   "cell_type": "code",
   "execution_count": 8,
   "metadata": {},
   "outputs": [],
   "source": [
    "# Pause pose\n",
    "poses = {\"pause\": limb.joint_angles()}\n",
    "\n",
    "with open(\"../config/poses.json\", \"w\") as f:\n",
    "    json.dump(poses, f, indent=4)"
   ]
  },
  {
   "cell_type": "code",
   "execution_count": 9,
   "metadata": {},
   "outputs": [],
   "source": [
    "with open(\"../config/poses.json\") as f:\n",
    "    poses = json.load(f)"
   ]
  },
  {
   "cell_type": "code",
   "execution_count": null,
   "metadata": {},
   "outputs": [],
   "source": [
    "limb.move_to_joint_positions(poses[\"pause\"])"
   ]
  },
  {
   "cell_type": "markdown",
   "metadata": {},
   "source": [
    "# Display sticks"
   ]
  },
  {
   "cell_type": "code",
   "execution_count": null,
   "metadata": {},
   "outputs": [],
   "source": [
    "with open(\"../config/sticks_target_ik.json\") as f:\n",
    "    sticks = json.load(f)"
   ]
  },
  {
   "cell_type": "code",
   "execution_count": null,
   "metadata": {},
   "outputs": [],
   "source": [
    "from sensor_msgs.msg import JointState\n",
    "p = rospy.Publisher(\"display/joint_states\", JointState, queue_size=1)"
   ]
  },
  {
   "cell_type": "code",
   "execution_count": null,
   "metadata": {},
   "outputs": [],
   "source": [
    "type = 'fear'\n",
    "side = 'end'\n",
    "for i, pose in enumerate(sticks[type]):\n",
    "    js = JointState()\n",
    "    js.header.stamp = rospy.Time.now()\n",
    "    js.name = pose[side].keys()\n",
    "    js.position = pose[side].values()\n",
    "    p.publish(js)\n",
    "    input = raw_input('Press to display {} pose {} of [q to quit] '.format(side, i, type))\n",
    "    if input == 'q': break"
   ]
  },
  {
   "cell_type": "code",
   "execution_count": null,
   "metadata": {},
   "outputs": [],
   "source": [
    "sticks"
   ]
  },
  {
   "cell_type": "code",
   "execution_count": null,
   "metadata": {},
   "outputs": [],
   "source": []
  }
 ],
 "metadata": {
  "kernelspec": {
   "display_name": "Python 2",
   "language": "python",
   "name": "python2"
  },
  "language_info": {
   "codemirror_mode": {
    "name": "ipython",
    "version": 2
   },
   "file_extension": ".py",
   "mimetype": "text/x-python",
   "name": "python",
   "nbconvert_exporter": "python",
   "pygments_lexer": "ipython2",
   "version": "2.7.15rc1"
  }
 },
 "nbformat": 4,
 "nbformat_minor": 2
}
