{
 "cells": [
  {
   "cell_type": "code",
   "execution_count": 1,
   "metadata": {},
   "outputs": [],
   "source": [
    "import intera_interface\n",
    "import rospy\n",
    "import json\n",
    "import tf\n",
    "from copy import deepcopy\n",
    "from sawyer import transformations"
   ]
  },
  {
   "cell_type": "code",
   "execution_count": 2,
   "metadata": {},
   "outputs": [],
   "source": [
    "rospy.init_node(\"sawyer_example\")"
   ]
  },
  {
   "cell_type": "code",
   "execution_count": 3,
   "metadata": {},
   "outputs": [],
   "source": [
    "effector = \"right_hand\"\n",
    "world = \"world\""
   ]
  },
  {
   "cell_type": "code",
   "execution_count": 4,
   "metadata": {},
   "outputs": [],
   "source": [
    "tfl = tf.TransformListener()\n",
    "tfb = tf.TransformBroadcaster()"
   ]
  },
  {
   "cell_type": "code",
   "execution_count": 5,
   "metadata": {},
   "outputs": [],
   "source": [
    "rs = intera_interface.RobotEnable(intera_interface.CHECK_VERSION)"
   ]
  },
  {
   "cell_type": "code",
   "execution_count": 6,
   "metadata": {},
   "outputs": [
    {
     "name": "stdout",
     "output_type": "stream",
     "text": [
      "[INFO] [1554567884.586898]: Robot Enabled\n"
     ]
    }
   ],
   "source": [
    "rs.enable()"
   ]
  },
  {
   "cell_type": "code",
   "execution_count": 7,
   "metadata": {},
   "outputs": [],
   "source": [
    "limb = intera_interface.Limb('right')"
   ]
  },
  {
   "cell_type": "code",
   "execution_count": 6,
   "metadata": {},
   "outputs": [],
   "source": [
    "angles = limb.joint_angles()"
   ]
  },
  {
   "cell_type": "code",
   "execution_count": 7,
   "metadata": {},
   "outputs": [
    {
     "data": {
      "text/plain": [
       "{'right_j0': 0.00175390625,\n",
       " 'right_j1': -1.177833984375,\n",
       " 'right_j2': 0.0013876953125,\n",
       " 'right_j3': 2.17882421875,\n",
       " 'right_j4': 0.0031181640625,\n",
       " 'right_j5': 0.56447265625,\n",
       " 'right_j6': 3.3151767578125}"
      ]
     },
     "execution_count": 7,
     "metadata": {},
     "output_type": "execute_result"
    }
   ],
   "source": [
    "angles"
   ]
  },
  {
   "cell_type": "code",
   "execution_count": 8,
   "metadata": {},
   "outputs": [],
   "source": [
    "limb.move_to_neutral()"
   ]
  },
  {
   "cell_type": "code",
   "execution_count": 10,
   "metadata": {},
   "outputs": [],
   "source": [
    "head = intera_interface.head.Head()"
   ]
  },
  {
   "cell_type": "code",
   "execution_count": 12,
   "metadata": {},
   "outputs": [
    {
     "data": {
      "text/plain": [
       "-3.1976141929626465"
      ]
     },
     "execution_count": 12,
     "metadata": {},
     "output_type": "execute_result"
    }
   ],
   "source": [
    "head.pan()"
   ]
  },
  {
   "cell_type": "code",
   "execution_count": 15,
   "metadata": {},
   "outputs": [],
   "source": [
    "head.set_pan(-1.57)"
   ]
  },
  {
   "cell_type": "code",
   "execution_count": 22,
   "metadata": {},
   "outputs": [],
   "source": [
    "hope_lower_left = limb.joint_angles()"
   ]
  },
  {
   "cell_type": "code",
   "execution_count": 17,
   "metadata": {},
   "outputs": [
    {
     "data": {
      "text/plain": [
       "{'right_j0': 0.0704453125,\n",
       " 'right_j1': -3.5299384765625,\n",
       " 'right_j2': -3.023064453125,\n",
       " 'right_j3': -2.736953125,\n",
       " 'right_j4': -1.4090927734375,\n",
       " 'right_j5': 1.5120576171875,\n",
       " 'right_j6': 1.0290107421875}"
      ]
     },
     "execution_count": 17,
     "metadata": {},
     "output_type": "execute_result"
    }
   ],
   "source": [
    "hope_lower_right"
   ]
  },
  {
   "cell_type": "code",
   "execution_count": 19,
   "metadata": {},
   "outputs": [],
   "source": [
    "hope_lower_right = limb.joint_angles()"
   ]
  },
  {
   "cell_type": "code",
   "execution_count": 40,
   "metadata": {},
   "outputs": [],
   "source": [
    "hope_higher_right = limb.joint_angles()"
   ]
  },
  {
   "cell_type": "code",
   "execution_count": 30,
   "metadata": {},
   "outputs": [],
   "source": [
    "hope_lower_left = limb.joint_angles()"
   ]
  },
  {
   "cell_type": "markdown",
   "metadata": {},
   "source": [
    "## Read poses"
   ]
  },
  {
   "cell_type": "code",
   "execution_count": 8,
   "metadata": {},
   "outputs": [],
   "source": [
    "with open(\"../config/poses.json\") as f:\n",
    "    extremes = json.load(f)"
   ]
  },
  {
   "cell_type": "code",
   "execution_count": 13,
   "metadata": {},
   "outputs": [],
   "source": [
    "hope_extremes = [extremes['hope']['higher']['left'], extremes['hope']['higher']['right'],\n",
    "                 extremes['hope']['lower']['left'], extremes['hope']['lower']['right']]\n",
    "for i in range(1):\n",
    "    for pose in hope_extremes:\n",
    "        limb.move_to_joint_positions(pose)\n",
    "        rospy.sleep(2)"
   ]
  },
  {
   "cell_type": "markdown",
   "metadata": {},
   "source": [
    "# Convert extreme poses to cartesian"
   ]
  },
  {
   "cell_type": "code",
   "execution_count": 42,
   "metadata": {},
   "outputs": [
    {
     "name": "stdout",
     "output_type": "stream",
     "text": [
      "Help on method sendTransform in module tf.broadcaster:\n",
      "\n",
      "sendTransform(self, translation, rotation, time, child, parent) method of tf.broadcaster.TransformBroadcaster instance\n",
      "    :param translation: the translation of the transformtion as a tuple (x, y, z)\n",
      "    :param rotation: the rotation of the transformation as a tuple (x, y, z, w)\n",
      "    :param time: the time of the transformation, as a rospy.Time()\n",
      "    :param child: child frame in tf, string\n",
      "    :param parent: parent frame in tf, string\n",
      "    \n",
      "    Broadcast the transformation from tf frame child to parent on ROS topic ``\"/tf\"``.\n",
      "\n"
     ]
    }
   ],
   "source": [
    "help(tfb.sendTransform)"
   ]
  },
  {
   "cell_type": "code",
   "execution_count": 59,
   "metadata": {},
   "outputs": [],
   "source": [
    "extremes_cartesian = deepcopy(extremes)\n",
    "\n",
    "for emotion in extremes:\n",
    "    for vertical in extremes[emotion]:\n",
    "        for horizontal in extremes[emotion][vertical]:\n",
    "            limb.move_to_joint_positions(extremes[emotion][vertical][horizontal])\n",
    "            rospy.sleep(2)\n",
    "            position, orientation = list(tfl.lookupTransform(world, effector, rospy.Time(0)))\n",
    "            extremes_cartesian[emotion][vertical][horizontal] = [position, orientation]"
   ]
  },
  {
   "cell_type": "code",
   "execution_count": 62,
   "metadata": {},
   "outputs": [],
   "source": [
    "# Uniformize\n",
    "for emotion in extremes:\n",
    "    for vertical in extremes[emotion]:\n",
    "        for horizontal in extremes[emotion][vertical]:\n",
    "            # All orientations uniform\n",
    "            extremes_cartesian[emotion][vertical][horizontal][1] = extremes_cartesian[emotion][\"higher\"][\"left\"][1]\n",
    "            # All -x uniform\n",
    "            extremes_cartesian[emotion][vertical][horizontal][0][0] = extremes_cartesian[emotion][\"higher\"][\"right\"][0][0]\n",
    "            \n",
    "            # Align lwoer/higher on z axis\n",
    "            if vertical == \"lower\":\n",
    "                extremes_cartesian[emotion][vertical][horizontal][0][2] = extremes_cartesian[emotion][\"lower\"][\"right\"][0][2]\n",
    "            elif vertical == \"higher\":\n",
    "                extremes_cartesian[emotion][vertical][horizontal][0][2] = extremes_cartesian[emotion][\"higher\"][\"left\"][0][2]\n",
    "\n",
    "            # Align left/right on y axis\n",
    "            if horizontal == \"left\":\n",
    "                extremes_cartesian[emotion][vertical][horizontal][0][1] = extremes_cartesian[emotion][\"lower\"][\"left\"][0][1]\n",
    "            elif horizontal == \"right\":\n",
    "                extremes_cartesian[emotion][vertical][horizontal][0][1] = extremes_cartesian[emotion][\"higher\"][\"right\"][0][1]"
   ]
  },
  {
   "cell_type": "code",
   "execution_count": 63,
   "metadata": {},
   "outputs": [],
   "source": [
    "# Publish on TF\n",
    "for emotion in extremes_cartesian:\n",
    "    for vertical in extremes_cartesian[emotion]:\n",
    "        for horizontal in extremes_cartesian[emotion][vertical]:\n",
    "            trans = extremes_cartesian[emotion][vertical][horizontal][0]\n",
    "            rot = extremes_cartesian[emotion][vertical][horizontal][1]\n",
    "            tfb.sendTransform(trans, rot, rospy.Time.now(), \"_\".join([emotion, vertical, horizontal]), \"world\")"
   ]
  },
  {
   "cell_type": "markdown",
   "metadata": {},
   "source": [
    "# Start here for later stick board update"
   ]
  },
  {
   "cell_type": "markdown",
   "metadata": {},
   "source": [
    "# Compute sticks in cartesian space"
   ]
  },
  {
   "cell_type": "code",
   "execution_count": 53,
   "metadata": {},
   "outputs": [],
   "source": [
    "# Base is [\"lower\"][\"left\"][0]\n",
    "base_position = [-0.65, -0.68, 0.35]\n"
   ]
  },
  {
   "cell_type": "code",
   "execution_count": 60,
   "metadata": {},
   "outputs": [
    {
     "name": "stdout",
     "output_type": "stream",
     "text": [
      "(196, 'sticks generated')\n"
     ]
    }
   ],
   "source": [
    "# Starting from lower left (drawing direction)\n",
    "# \n",
    "sticks = []\n",
    "emotion = \"hope\"\n",
    "y_interval = 0.015     # Interval of sticks in y direction\n",
    "z_interval = 0.02      # Interval of sticks in z direction\n",
    "group_interval = 0.02  # Interval between each group in y direction\n",
    "num_groups = 7         # Number of stick groups per line\n",
    "num_sticks = 4         # Number of sticks per group\n",
    "height_stick = 0.04    # Length in z direction\n",
    "num_height = 7         # Number of sticks in z direction (in height)\n",
    "\n",
    "z_stick = base_position[2]\n",
    "col = 0\n",
    "for h in range(num_height):\n",
    "    y_stick = base_position[1]\n",
    "    for g in range(num_groups):\n",
    "        for i in range(num_sticks):\n",
    "            start_stick = [base_position[0], y_stick, z_stick]\n",
    "            end_stick = [base_position[0], y_stick, height_stick + z_stick]\n",
    "            sticks.append([start_stick, end_stick])\n",
    "\n",
    "            tfb.sendTransform(sticks[-1][0], [0, 0, 0, 1], rospy.Time.now(), str(col), \"world\")\n",
    "            tfb.sendTransform(sticks[-1][1], [0, 0, 0, 1], rospy.Time.now(), \"e\"+str(col), \"world\")\n",
    "            y_stick += y_interval\n",
    "            col += 1\n",
    "        y_stick += group_interval\n",
    "    z_stick += z_interval + height_stick\n",
    "print(len(sticks), \"sticks generated\")"
   ]
  },
  {
   "cell_type": "markdown",
   "metadata": {},
   "source": [
    "# Read approximate hand_to_stick transformation from tf"
   ]
  },
  {
   "cell_type": "code",
   "execution_count": 41,
   "metadata": {},
   "outputs": [],
   "source": [
    "hope_lower_left = {u'right_j0': 1.611796875,\n",
    "                   u'right_j1': -2.75679296875,\n",
    "                   u'right_j2': -3.0216201171875,\n",
    "                   u'right_j3': 1.296830078125,\n",
    "                   u'right_j4': 1.161048828125,\n",
    "                   u'right_j5': -1.98382421875,\n",
    "                   u'right_j6': 1.0612880859375}"
   ]
  },
  {
   "cell_type": "code",
   "execution_count": 42,
   "metadata": {},
   "outputs": [],
   "source": [
    "limb.move_to_joint_positions(hope_lower_left)\n",
    "# Move to extreme lower left in JOINT space"
   ]
  },
  {
   "cell_type": "code",
   "execution_count": 72,
   "metadata": {},
   "outputs": [],
   "source": [
    "hand_T_world = list(tfl.lookupTransform(world, effector, rospy.Time(0)))"
   ]
  },
  {
   "cell_type": "code",
   "execution_count": 74,
   "metadata": {},
   "outputs": [
    {
     "data": {
      "text/plain": [
       "[[-0.5173524294713373, -0.6102119978073007, 0.2956745351668124],\n",
       " [0.5551387930838201,\n",
       "  -0.04831044750848252,\n",
       "  -0.8303267638763152,\n",
       "  -0.006669802519999546]]"
      ]
     },
     "execution_count": 74,
     "metadata": {},
     "output_type": "execute_result"
    }
   ],
   "source": [
    "hand_T_world"
   ]
  },
  {
   "cell_type": "code",
   "execution_count": 75,
   "metadata": {},
   "outputs": [],
   "source": [
    "STICK_START = 0\n",
    "STICK_END = 1\n",
    "CONSIDERED_STICK = 4\n",
    "stick_T_world = [sticks[CONSIDERED_STICK][STICK_START], [0, 0, 0, 1]]"
   ]
  },
  {
   "cell_type": "code",
   "execution_count": 76,
   "metadata": {},
   "outputs": [
    {
     "data": {
      "text/plain": [
       "[[-0.65, -0.6, 0.35], [0, 0, 0, 1]]"
      ]
     },
     "execution_count": 76,
     "metadata": {},
     "output_type": "execute_result"
    }
   ],
   "source": [
    "stick_T_world"
   ]
  },
  {
   "cell_type": "code",
   "execution_count": 77,
   "metadata": {},
   "outputs": [],
   "source": [
    "hand_T_stick = transformations.multiply_transform(hand_T_world, transformations.inverse_transform(stick_T_world))"
   ]
  },
  {
   "cell_type": "code",
   "execution_count": 78,
   "metadata": {},
   "outputs": [
    {
     "data": {
      "text/plain": [
       "[[-0.4830532732485746, -1.265694376021281, -0.3929228942020103],\n",
       " [0.5551387930838201,\n",
       "  -0.04831044750848252,\n",
       "  -0.8303267638763152,\n",
       "  -0.006669802519999546]]"
      ]
     },
     "execution_count": 78,
     "metadata": {},
     "output_type": "execute_result"
    }
   ],
   "source": [
    "hand_T_stick"
   ]
  },
  {
   "cell_type": "markdown",
   "metadata": {},
   "source": [
    "# Get IK for each stick"
   ]
  },
  {
   "cell_type": "code",
   "execution_count": 57,
   "metadata": {},
   "outputs": [
    {
     "name": "stderr",
     "output_type": "stream",
     "text": [
      "[ERROR] [1554569328.118843]: INVALID POSE - No Valid Joint Solution Found.\n"
     ]
    },
    {
     "ename": "RuntimeError",
     "evalue": "Can't compute stick 16",
     "output_type": "error",
     "traceback": [
      "\u001b[0;31m---------------------------------------------------------------------------\u001b[0m",
      "\u001b[0;31mRuntimeError\u001b[0m                              Traceback (most recent call last)",
      "\u001b[0;32m<ipython-input-57-9c66a558c329>\u001b[0m in \u001b[0;36m<module>\u001b[0;34m()\u001b[0m\n\u001b[1;32m      5\u001b[0m     \u001b[0mrospy\u001b[0m\u001b[0;34m.\u001b[0m\u001b[0msleep\u001b[0m\u001b[0;34m(\u001b[0m\u001b[0;36m1\u001b[0m\u001b[0;34m)\u001b[0m\u001b[0;34m\u001b[0m\u001b[0m\n\u001b[1;32m      6\u001b[0m     \u001b[0;32mif\u001b[0m \u001b[0mresult\u001b[0m \u001b[0;34m==\u001b[0m \u001b[0mFalse\u001b[0m\u001b[0;34m:\u001b[0m\u001b[0;34m\u001b[0m\u001b[0m\n\u001b[0;32m----> 7\u001b[0;31m         \u001b[0;32mraise\u001b[0m \u001b[0mRuntimeError\u001b[0m\u001b[0;34m(\u001b[0m\u001b[0;34m\"Can't compute stick \"\u001b[0m \u001b[0;34m+\u001b[0m \u001b[0mstr\u001b[0m\u001b[0;34m(\u001b[0m\u001b[0mstick_id\u001b[0m\u001b[0;34m)\u001b[0m\u001b[0;34m)\u001b[0m\u001b[0;34m\u001b[0m\u001b[0m\n\u001b[0m\u001b[1;32m      8\u001b[0m \u001b[0;34m\u001b[0m\u001b[0m\n",
      "\u001b[0;31mRuntimeError\u001b[0m: Can't compute stick 16"
     ]
    }
   ],
   "source": [
    "for stick_id, stick in enumerate(sticks):\n",
    "    hand_T_world = transformations.multiply_transform(hand_T_stick, [stick[STICK_START], [0,0,0,1]])\n",
    "    tfb.sendTransform(hand_T_world[0], hand_T_world[1], rospy.Time.now(), \"ik\", \"world\")\n",
    "    result = limb.ik_request(transformations.list_to_pose(hand_T_world))\n",
    "    rospy.sleep(1)\n",
    "    if result == False:\n",
    "        raise RuntimeError(\"Can't compute stick \" + str(stick_id))\n",
    "        "
   ]
  },
  {
   "cell_type": "markdown",
   "metadata": {},
   "source": [
    "## Overwrite poses"
   ]
  },
  {
   "cell_type": "code",
   "execution_count": 65,
   "metadata": {},
   "outputs": [],
   "source": [
    "hope = {\"higher\": {\"left\" : hope_higher_left, \"right\": hope_higher_right},\n",
    "        \"lower\": {\"left\" : hope_lower_left, \"right\": hope_lower_right}}"
   ]
  },
  {
   "cell_type": "code",
   "execution_count": 66,
   "metadata": {},
   "outputs": [],
   "source": [
    "fear = {}"
   ]
  },
  {
   "cell_type": "code",
   "execution_count": 67,
   "metadata": {},
   "outputs": [],
   "source": [
    "extremes = {\"hope\": hope, \"fear\": fear}"
   ]
  },
  {
   "cell_type": "code",
   "execution_count": 68,
   "metadata": {},
   "outputs": [],
   "source": [
    "with open(\"../config/poses.json\", \"w\") as f:\n",
    "    json.dump(extremes, f, indent=4)"
   ]
  },
  {
   "cell_type": "markdown",
   "metadata": {},
   "source": [
    "# Kinematics"
   ]
  },
  {
   "cell_type": "code",
   "execution_count": 9,
   "metadata": {},
   "outputs": [],
   "source": [
    "from sawyer.transformations import list_to_pose"
   ]
  },
  {
   "cell_type": "code",
   "execution_count": 10,
   "metadata": {},
   "outputs": [],
   "source": [
    "from geometry_msgs.msg import Pose"
   ]
  },
  {
   "cell_type": "code",
   "execution_count": 16,
   "metadata": {},
   "outputs": [
    {
     "name": "stderr",
     "output_type": "stream",
     "text": [
      "[ERROR] [1554312105.446198]: INVALID POSE - No Valid Joint Solution Found.\n"
     ]
    },
    {
     "data": {
      "text/plain": [
       "False"
      ]
     },
     "execution_count": 16,
     "metadata": {},
     "output_type": "execute_result"
    }
   ],
   "source": [
    "limb.ik_request(list_to_pose([[0.452, 0.159, 0.216],  [0.707, 0.707, 0.002, 0.004]]))"
   ]
  },
  {
   "cell_type": "code",
   "execution_count": 15,
   "metadata": {},
   "outputs": [
    {
     "data": {
      "text/plain": [
       "{'right_j0': 0.0018564453125,\n",
       " 'right_j1': -1.1825615234375,\n",
       " 'right_j2': -0.0019326171875,\n",
       " 'right_j3': 2.177814453125,\n",
       " 'right_j4': 0.0020849609375,\n",
       " 'right_j5': 0.5650791015625,\n",
       " 'right_j6': 3.3153837890625}"
      ]
     },
     "execution_count": 15,
     "metadata": {},
     "output_type": "execute_result"
    }
   ],
   "source": [
    "limb.joint_angles()"
   ]
  },
  {
   "cell_type": "code",
   "execution_count": null,
   "metadata": {},
   "outputs": [],
   "source": []
  }
 ],
 "metadata": {
  "kernelspec": {
   "display_name": "Python 2",
   "language": "python",
   "name": "python2"
  },
  "language_info": {
   "codemirror_mode": {
    "name": "ipython",
    "version": 2
   },
   "file_extension": ".py",
   "mimetype": "text/x-python",
   "name": "python",
   "nbconvert_exporter": "python",
   "pygments_lexer": "ipython2",
   "version": "2.7.15rc1"
  }
 },
 "nbformat": 4,
 "nbformat_minor": 2
}
