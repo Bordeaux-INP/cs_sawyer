{
 "cells": [
  {
   "cell_type": "code",
   "execution_count": 3,
   "metadata": {},
   "outputs": [],
   "source": [
    "import intera_interface\n",
    "import rospy\n",
    "import json\n",
    "import tf\n",
    "from copy import deepcopy\n",
    "from sawyer import transformations\n",
    "from os import environ"
   ]
  },
  {
   "cell_type": "code",
   "execution_count": 4,
   "metadata": {},
   "outputs": [],
   "source": [
    "environ['ROS_MASTER_URI'] = 'http://021607CP00116.local:11311'"
   ]
  },
  {
   "cell_type": "code",
   "execution_count": 5,
   "metadata": {},
   "outputs": [],
   "source": [
    "environ['ROS_HOSTNAME'] = 'mingew.local'"
   ]
  },
  {
   "cell_type": "code",
   "execution_count": 6,
   "metadata": {},
   "outputs": [],
   "source": [
    "rospy.init_node(\"sawyer_example\")"
   ]
  },
  {
   "cell_type": "code",
   "execution_count": 7,
   "metadata": {},
   "outputs": [],
   "source": [
    "effector = \"right_hand\"\n",
    "world = \"world\""
   ]
  },
  {
   "cell_type": "code",
   "execution_count": 8,
   "metadata": {},
   "outputs": [],
   "source": [
    "tfl = tf.TransformListener(interpolate=True, cache_time=rospy.Duration(1000))\n",
    "tfb = tf.TransformBroadcaster()"
   ]
  },
  {
   "cell_type": "code",
   "execution_count": 9,
   "metadata": {},
   "outputs": [],
   "source": [
    "rs = intera_interface.RobotEnable(intera_interface.CHECK_VERSION)"
   ]
  },
  {
   "cell_type": "code",
   "execution_count": 10,
   "metadata": {},
   "outputs": [
    {
     "name": "stdout",
     "output_type": "stream",
     "text": [
      "[INFO] [1555260165.914352]: Robot Enabled\n"
     ]
    }
   ],
   "source": [
    "rs.enable()"
   ]
  },
  {
   "cell_type": "code",
   "execution_count": 11,
   "metadata": {},
   "outputs": [],
   "source": [
    "limb = intera_interface.Limb('right')"
   ]
  },
  {
   "cell_type": "code",
   "execution_count": 12,
   "metadata": {},
   "outputs": [],
   "source": [
    "hope_lower_left = {u'right_j0': 1.611796875,\n",
    "                   u'right_j1': -2.75679296875,\n",
    "                   u'right_j2': -3.0216201171875,\n",
    "                   u'right_j3': 1.296830078125,\n",
    "                   u'right_j4': 1.161048828125,\n",
    "                   u'right_j5': -1.98382421875,\n",
    "                   u'right_j6': 1.0612880859375}"
   ]
  },
  {
   "cell_type": "code",
   "execution_count": 13,
   "metadata": {},
   "outputs": [],
   "source": [
    "limb.move_to_neutral()"
   ]
  },
  {
   "cell_type": "code",
   "execution_count": 14,
   "metadata": {},
   "outputs": [],
   "source": [
    "limb.move_to_joint_positions(hope_lower_left)\n",
    "# Move to extreme lower left in JOINT space"
   ]
  },
  {
   "cell_type": "markdown",
   "metadata": {},
   "source": [
    "# Compute sticks in cartesian space"
   ]
  },
  {
   "cell_type": "code",
   "execution_count": 13,
   "metadata": {},
   "outputs": [],
   "source": [
    "# Base is [\"lower\"][\"left\"][0] for HOPE\n",
    "base_position = [-0.5, -0.7, 0.35]\n"
   ]
  },
  {
   "cell_type": "code",
   "execution_count": 14,
   "metadata": {},
   "outputs": [
    {
     "name": "stdout",
     "output_type": "stream",
     "text": [
      "(128, '+', 128, 'sticks generated')\n"
     ]
    }
   ],
   "source": [
    "# Starting from lower left (drawing direction)\n",
    "# \n",
    "sticks = {\"hope\": [], \"fear\": []}\n",
    "y_interval = 0.01     # Interval of sticks in y direction\n",
    "z_interval = 0.02      # Interval of sticks in z direction\n",
    "group_interval = 0.01  # Interval between each group in y direction\n",
    "num_groups = 8         # Number of stick groups per line\n",
    "num_sticks = 4         # Number of sticks per group\n",
    "height_stick = 0.03    # Length in z direction\n",
    "num_height = 8         # Number of sticks in z direction (in height)\n",
    "num_points_cart = 20   # Number of cartesian points for the actual drawing motion\n",
    "\n",
    "emotion = \"fear\"\n",
    "z_stick = base_position[2]\n",
    "col = 0\n",
    "for h in range(num_height):\n",
    "    y_stick = base_position[1]\n",
    "    for g in range(num_groups):\n",
    "        for i in range(num_sticks):\n",
    "            # Add the end stick\n",
    "            end_stick = [base_position[0], y_stick, z_stick + height_stick]\n",
    "            tfb.sendTransform(end_stick, [0, 0, 0, 1], rospy.Time.now(), str(col), \"world\")\n",
    "            motion = [end_stick]\n",
    "\n",
    "            # Add the cartesian motion\n",
    "            for p in range(num_points_cart):\n",
    "                motion_point = deepcopy(end_stick)\n",
    "                motion_point[2] = z_stick + height_stick - height_stick * (p+1) / num_points_cart\n",
    "                motion.append(motion_point)\n",
    "                #if i == 0 and g == 0:\n",
    "                #    tfb.sendTransform(motion_point, [0, 0, 0, 1], rospy.Time.now(), str(col)+'-'+str(p), \"world\")\n",
    "            \n",
    "            sticks[emotion].append(motion)\n",
    "            y_stick += y_interval\n",
    "            col += 1\n",
    "        y_stick += group_interval\n",
    "    z_stick += z_interval + height_stick\n",
    "    if len(sticks[\"fear\"]) == num_groups*num_height*num_sticks/2:\n",
    "        emotion = \"hope\"\n",
    "        z_stick += 0.02\n",
    "print(len(sticks[\"hope\"]), \"+\", len(sticks[\"fear\"]), \"sticks generated\")"
   ]
  },
  {
   "cell_type": "code",
   "execution_count": 15,
   "metadata": {},
   "outputs": [
    {
     "data": {
      "text/plain": [
       "[[-0.5, -0.7, 0.38],\n",
       " [-0.5, -0.7, 0.3785],\n",
       " [-0.5, -0.7, 0.377],\n",
       " [-0.5, -0.7, 0.3755],\n",
       " [-0.5, -0.7, 0.374],\n",
       " [-0.5, -0.7, 0.3725],\n",
       " [-0.5, -0.7, 0.371],\n",
       " [-0.5, -0.7, 0.3695],\n",
       " [-0.5, -0.7, 0.368],\n",
       " [-0.5, -0.7, 0.3665],\n",
       " [-0.5, -0.7, 0.365],\n",
       " [-0.5, -0.7, 0.3635],\n",
       " [-0.5, -0.7, 0.362],\n",
       " [-0.5, -0.7, 0.3605],\n",
       " [-0.5, -0.7, 0.359],\n",
       " [-0.5, -0.7, 0.3575],\n",
       " [-0.5, -0.7, 0.356],\n",
       " [-0.5, -0.7, 0.3545],\n",
       " [-0.5, -0.7, 0.353],\n",
       " [-0.5, -0.7, 0.35150000000000003],\n",
       " [-0.5, -0.7, 0.35]]"
      ]
     },
     "execution_count": 15,
     "metadata": {},
     "output_type": "execute_result"
    }
   ],
   "source": [
    "sticks['fear'][0]"
   ]
  },
  {
   "cell_type": "markdown",
   "metadata": {},
   "source": [
    "# Cartesian sticks"
   ]
  },
  {
   "cell_type": "code",
   "execution_count": 16,
   "metadata": {},
   "outputs": [],
   "source": [
    "hand_T_stick = [[0.14239612794977008, 0.01701314337065485, -0.07630844138995452],\n",
    " [0.5270677868272005,\n",
    "  0.023880201241985057,\n",
    "  -0.8461224120032248,\n",
    "  0.07553904939543005]]"
   ]
  },
  {
   "cell_type": "code",
   "execution_count": 17,
   "metadata": {},
   "outputs": [],
   "source": [
    "stick_fk = {\"hope\" : [], \"fear\": [], \"joints\": []}\n",
    "seed = None\n",
    "for emotion in [\"hope\", \"fear\"]:\n",
    "    for stick_id, stick in enumerate(sticks[emotion]):\n",
    "        motion = []\n",
    "        for point_id, point in enumerate(stick):\n",
    "            hand_T_world = transformations.multiply_transform([point, [0,0,0,1]], hand_T_stick)\n",
    "            tfb.sendTransform(hand_T_world[0], hand_T_world[1], rospy.Time.now(), \"eik\", world)\n",
    "            result = limb.ik_request(transformations.list_to_pose(hand_T_world), joint_seed=seed)\n",
    "            if result == False:\n",
    "                raise RuntimeError(emotion + \": can't compute stick start \" + str(stick_id))\n",
    "            else:\n",
    "                motion.append(result.values())\n",
    "                seed = result\n",
    "        stick_fk[emotion].append(motion)\n",
    "        stick_fk[\"joints\"] = result.keys()\n",
    "        #rospy.sleep(0.1)"
   ]
  },
  {
   "cell_type": "code",
   "execution_count": 30,
   "metadata": {},
   "outputs": [],
   "source": [
    "with open(\"../config/motions.json\", \"w\") as f:\n",
    "    json.dump(stick_fk, f)"
   ]
  },
  {
   "cell_type": "markdown",
   "metadata": {},
   "source": [
    "# Reload cartesian sticks"
   ]
  },
  {
   "cell_type": "code",
   "execution_count": 11,
   "metadata": {},
   "outputs": [],
   "source": [
    "with open(\"../config/motions.json\") as f:\n",
    "    stick_fk = json.load(f)"
   ]
  },
  {
   "cell_type": "code",
   "execution_count": 12,
   "metadata": {},
   "outputs": [],
   "source": [
    "from intera_motion_interface import (\n",
    "    MotionTrajectory,\n",
    "    MotionWaypoint,\n",
    "    MotionWaypointOptions\n",
    ")"
   ]
  },
  {
   "cell_type": "code",
   "execution_count": 13,
   "metadata": {},
   "outputs": [],
   "source": [
    "traj  = MotionTrajectory()"
   ]
  },
  {
   "cell_type": "code",
   "execution_count": 24,
   "metadata": {},
   "outputs": [],
   "source": [
    "traj.set_joint_names(stick_fk[\"joints\"])\n",
    "traj."
   ]
  },
  {
   "cell_type": "code",
   "execution_count": 25,
   "metadata": {},
   "outputs": [],
   "source": [
    "for point in stick_fk[\"hope\"][0]:\n",
    "    waypoint = MotionWaypoint(ma)\n",
    "    waypoint.set_joint_angles(point)\n",
    "    traj.append_waypoint(waypoint)"
   ]
  },
  {
   "cell_type": "code",
   "execution_count": 27,
   "metadata": {},
   "outputs": [
    {
     "data": {
      "text/plain": [
       "result: True\n",
       "errorId: ''\n",
       "trajectory_analysis: \n",
       "  planned_duration: 4.09254180956\n",
       "  measured_duration: 4.099870243\n",
       "  min_angle_command: [0.6436005593905485, -1.8083957825243826, 1.04663495132743, 1.0935538557482565, -3.0225999873378693, -2.549719594979685, 1.5895995374984153]\n",
       "  max_angle_command: [0.6805687632735085, 1.1754943508222875e-38, 1.0553534042121082, 1.109561937467399, 1.1754943508222875e-38, 1.1754943508222875e-38, 1.6007634731370282]\n",
       "  peak_speed_command: [0.1516398975064467, 0.10858441551787587, 0.035762209929474084, 0.06566355988529682, 0.07535013896571861, 0.12243219121370731, 0.045793356369000254]\n",
       "  peak_accel_command: [1.2253422532503047, 0.8774278706755578, 0.28898032520978995, 0.5306013506298057, 0.6088747788757376, 0.9893262889194343, 0.3700380664969747]\n",
       "  peak_jerk_command: [10.649847802654358, 7.748108409003397, 4.830533143059915, 5.124832771628908, 5.646023849003435, 8.248532415716207, 3.5333986226465397]\n",
       "  min_time_rate: 1.0\n",
       "  max_time_rate: 1.0\n",
       "  max_position_error: [0.0016205583774995258, 0.003108637736306541, 0.0015732030256798701, 0.0025362462943343544, 0.004974734279594273, 0.008031578394938066, 0.006401370397695505]\n",
       "  max_velocity_error: [0.0185535967146783, 0.041203836399222524, 0.024603326249500557, 0.03703810138966785, 0.057283181383291935, 0.09910566650674213, 0.10159567301414796]\n",
       "last_successful_waypoint: 20"
      ]
     },
     "execution_count": 27,
     "metadata": {},
     "output_type": "execute_result"
    }
   ],
   "source": [
    "traj.send_trajectory(timeout=20)"
   ]
  },
  {
   "cell_type": "code",
   "execution_count": 28,
   "metadata": {},
   "outputs": [],
   "source": [
    "traj.clear_waypoints()"
   ]
  },
  {
   "cell_type": "code",
   "execution_count": 29,
   "metadata": {},
   "outputs": [],
   "source": [
    "w = MotionWaypoint()"
   ]
  },
  {
   "cell_type": "code",
   "execution_count": 30,
   "metadata": {},
   "outputs": [],
   "source": [
    "traj.set_joint_names(hope_lower_left.keys())\n",
    "w.set_joint_angles(hope_lower_left.values())"
   ]
  },
  {
   "cell_type": "code",
   "execution_count": 31,
   "metadata": {},
   "outputs": [],
   "source": [
    "traj.append_waypoint(w)"
   ]
  },
  {
   "cell_type": "code",
   "execution_count": 32,
   "metadata": {},
   "outputs": [
    {
     "data": {
      "text/plain": [
       "result: True\n",
       "errorId: ''\n",
       "trajectory_analysis: \n",
       "  planned_duration: 0.92698697522\n",
       "  measured_duration: 0.929326811\n",
       "  min_angle_command: [0.6805718709535935, -1.9838242187594355, 1.046635579108908, 1.1095629499611237, -3.0216201132786344, -2.756792968581033, 1.5895996571901037]\n",
       "  max_angle_command: [1.0612880859375, 1.1754943508222875e-38, 1.1610488281253692, 1.2968300781249995, 1.1754943508222875e-38, 1.1754943508222875e-38, 1.6117968738349906]\n",
       "  peak_speed_command: [0.7084717308368675, 0.37842880559743924, 0.2468132366852051, 0.40397512051011786, 0.0375130937997645, 0.44669918035683526, 0.04788414741695481]\n",
       "  peak_accel_command: [2.525521240364423, 1.2517726003458554, 0.9414482266034151, 1.6576309408666876, 0.16054496039042834, 1.91174054050629, 0.20493000634441685]\n",
       "  peak_jerk_command: [23.152732604838953, 7.768764871376634, 4.677076241363913, 7.543246353955295, 0.698587915175077, 8.318659366822375, 0.8917229512580622]\n",
       "  min_time_rate: 1.0\n",
       "  max_time_rate: 1.0\n",
       "  max_position_error: [0.0022039108318474554, 0.00494429039068045, 0.001208889847040595, 0.010021288622022784, 0.009181023826027257, 0.0059167934544601675, 0.01613300442722232]\n",
       "  max_velocity_error: [0.023250889013750393, 0.05341649167481449, 0.030813671257954017, 0.08250073693034549, 0.1068911221045467, 0.08222231148927034, 0.12048468536110196]\n",
       "last_successful_waypoint: 0"
      ]
     },
     "execution_count": 32,
     "metadata": {},
     "output_type": "execute_result"
    }
   ],
   "source": [
    "traj.send_trajectory(timeout=10)"
   ]
  },
  {
   "cell_type": "markdown",
   "metadata": {},
   "source": [
    "# Overwrite other poses"
   ]
  },
  {
   "cell_type": "code",
   "execution_count": null,
   "metadata": {},
   "outputs": [],
   "source": [
    "# Pause pose\n",
    "poses = {\"pause\": limb.joint_angles()}\n",
    "\n",
    "with open(\"../config/poses.json\", \"w\") as f:\n",
    "    json.dump(poses, f, indent=4)"
   ]
  },
  {
   "cell_type": "code",
   "execution_count": 17,
   "metadata": {},
   "outputs": [],
   "source": [
    "with open(\"../config/poses.json\") as f:\n",
    "    poses = json.load(f)"
   ]
  },
  {
   "cell_type": "code",
   "execution_count": null,
   "metadata": {},
   "outputs": [],
   "source": [
    "limb.move_to_joint_positions(poses[\"pause\"])"
   ]
  },
  {
   "cell_type": "code",
   "execution_count": 18,
   "metadata": {},
   "outputs": [
    {
     "data": {
      "text/plain": [
       "{u'pause': {u'right_j0': 2.462169921875,\n",
       "  u'right_j1': -3.327517578125,\n",
       "  u'right_j2': -2.2095576171875,\n",
       "  u'right_j3': -1.52369140625,\n",
       "  u'right_j4': 0.1305107421875,\n",
       "  u'right_j5': -1.00734375,\n",
       "  u'right_j6': -0.2455576171875}}"
      ]
     },
     "execution_count": 18,
     "metadata": {},
     "output_type": "execute_result"
    }
   ],
   "source": [
    "poses"
   ]
  },
  {
   "cell_type": "markdown",
   "metadata": {},
   "source": [
    "# Display sticks"
   ]
  },
  {
   "cell_type": "code",
   "execution_count": null,
   "metadata": {},
   "outputs": [],
   "source": [
    "with open(\"../config/sticks_target_ik.json\") as f:\n",
    "    sticks = json.load(f)"
   ]
  },
  {
   "cell_type": "code",
   "execution_count": null,
   "metadata": {},
   "outputs": [],
   "source": [
    "from sensor_msgs.msg import JointState\n",
    "p = rospy.Publisher(\"display/joint_states\", JointState, queue_size=1)"
   ]
  },
  {
   "cell_type": "code",
   "execution_count": null,
   "metadata": {},
   "outputs": [],
   "source": [
    "type = 'fear'\n",
    "side = 'end'\n",
    "for i, pose in enumerate(sticks[type]):\n",
    "    js = JointState()\n",
    "    js.header.stamp = rospy.Time.now()\n",
    "    js.name = pose[side].keys()\n",
    "    js.position = pose[side].values()\n",
    "    p.publish(js)\n",
    "    input = raw_input('Press to display {} pose {} of [q to quit] '.format(side, i, type))\n",
    "    if input == 'q': break"
   ]
  },
  {
   "cell_type": "code",
   "execution_count": null,
   "metadata": {},
   "outputs": [],
   "source": [
    "sticks"
   ]
  },
  {
   "cell_type": "code",
   "execution_count": null,
   "metadata": {},
   "outputs": [],
   "source": []
  }
 ],
 "metadata": {
  "kernelspec": {
   "display_name": "Python 2",
   "language": "python",
   "name": "python2"
  },
  "language_info": {
   "codemirror_mode": {
    "name": "ipython",
    "version": 2
   },
   "file_extension": ".py",
   "mimetype": "text/x-python",
   "name": "python",
   "nbconvert_exporter": "python",
   "pygments_lexer": "ipython2",
   "version": "2.7.15rc1"
  }
 },
 "nbformat": 4,
 "nbformat_minor": 2
}
