{
 "cells": [
  {
   "cell_type": "code",
   "execution_count": 1,
   "metadata": {},
   "outputs": [],
   "source": [
    "import intera_interface\n",
    "import rospy\n",
    "import json\n",
    "import tf\n",
    "from copy import deepcopy\n",
    "from sawyer import transformations\n",
    "from os import environ"
   ]
  },
  {
   "cell_type": "code",
   "execution_count": 2,
   "metadata": {},
   "outputs": [],
   "source": [
    "environ['ROS_MASTER_URI'] = 'http://mingew.local:11311'"
   ]
  },
  {
   "cell_type": "code",
   "execution_count": 3,
   "metadata": {},
   "outputs": [],
   "source": [
    "environ['ROS_HOSTNAME'] = 'mingew.local'"
   ]
  },
  {
   "cell_type": "code",
   "execution_count": 4,
   "metadata": {},
   "outputs": [],
   "source": [
    "rospy.init_node(\"sawyer_example\")"
   ]
  },
  {
   "cell_type": "code",
   "execution_count": 5,
   "metadata": {},
   "outputs": [],
   "source": [
    "effector = \"right_hand\"\n",
    "world = \"world\""
   ]
  },
  {
   "cell_type": "code",
   "execution_count": 6,
   "metadata": {},
   "outputs": [],
   "source": [
    "tfl = tf.TransformListener(interpolate=False, cache_time=rospy.Duration(100))\n",
    "tfb = tf.TransformBroadcaster()"
   ]
  },
  {
   "cell_type": "code",
   "execution_count": 7,
   "metadata": {},
   "outputs": [
    {
     "name": "stderr",
     "output_type": "stream",
     "text": [
      "[WARN] [1555447325.301303]: RobotEnable: Failed to retrieve robot version from rosparam: /manifest/robot_software/version/HLR_VERSION_STRING\n",
      "Verify robot state and connectivity (i.e. ROS_MASTER_URI)\n"
     ]
    },
    {
     "ename": "SystemExit",
     "evalue": "1",
     "output_type": "error",
     "traceback": [
      "An exception has occurred, use %tb to see the full traceback.\n",
      "\u001b[0;31mSystemExit\u001b[0m\u001b[0;31m:\u001b[0m 1\n"
     ]
    },
    {
     "name": "stderr",
     "output_type": "stream",
     "text": [
      "/usr/lib/python2.7/dist-packages/IPython/core/interactiveshell.py:2890: UserWarning: To exit: use 'exit', 'quit', or Ctrl-D.\n",
      "  warn(\"To exit: use 'exit', 'quit', or Ctrl-D.\", stacklevel=1)\n"
     ]
    }
   ],
   "source": [
    "rs = intera_interface.RobotEnable(intera_interface.CHECK_VERSION)"
   ]
  },
  {
   "cell_type": "code",
   "execution_count": 8,
   "metadata": {},
   "outputs": [
    {
     "name": "stdout",
     "output_type": "stream",
     "text": [
      "[INFO] [1555429213.580470]: Robot Enabled\n"
     ]
    }
   ],
   "source": [
    "rs.enable()"
   ]
  },
  {
   "cell_type": "code",
   "execution_count": 9,
   "metadata": {},
   "outputs": [],
   "source": [
    "limb = intera_interface.Limb('right')"
   ]
  },
  {
   "cell_type": "code",
   "execution_count": 10,
   "metadata": {},
   "outputs": [],
   "source": [
    "hope_lower_left = {u'right_j0': 1.611796875,\n",
    "                   u'right_j1': -2.75679296875,\n",
    "                   u'right_j2': -3.0216201171875,\n",
    "                   u'right_j3': 1.296830078125,\n",
    "                   u'right_j4': 1.161048828125,\n",
    "                   u'right_j5': -1.98382421875,\n",
    "                   u'right_j6': 1.0612880859375}"
   ]
  },
  {
   "cell_type": "code",
   "execution_count": 16,
   "metadata": {},
   "outputs": [],
   "source": [
    "limb.set_joint_position_speed(0.1)"
   ]
  },
  {
   "cell_type": "code",
   "execution_count": 28,
   "metadata": {},
   "outputs": [],
   "source": [
    "limb.move_to_joint_positions(hope_lower_left)\n",
    "# Move to extreme lower left in JOINT space"
   ]
  },
  {
   "cell_type": "markdown",
   "metadata": {},
   "source": [
    "# Compute sticks in cartesian space"
   ]
  },
  {
   "cell_type": "code",
   "execution_count": 7,
   "metadata": {},
   "outputs": [],
   "source": [
    "from geometry_msgs.msg import PoseStamped"
   ]
  },
  {
   "cell_type": "code",
   "execution_count": 8,
   "metadata": {},
   "outputs": [
    {
     "name": "stderr",
     "output_type": "stream",
     "text": [
      "[WARN] [1555453195.437086]: PLACE PEN AT FIRST STICK\n"
     ]
    }
   ],
   "source": [
    "rospy.logwarn(\"PLACE PEN AT FIRST STICK\")"
   ]
  },
  {
   "cell_type": "code",
   "execution_count": 15,
   "metadata": {},
   "outputs": [],
   "source": [
    "#New attempts"
   ]
  },
  {
   "cell_type": "code",
   "execution_count": 194,
   "metadata": {},
   "outputs": [
    {
     "data": {
      "text/plain": [
       "Point(x=-0.41720399440183237, y=-0.6692288088696071, z=0.2904578769797458)"
      ]
     },
     "execution_count": 194,
     "metadata": {},
     "output_type": "execute_result"
    }
   ],
   "source": [
    "limb.endpoint_pose()[\"position\"]"
   ]
  },
  {
   "cell_type": "code",
   "execution_count": 9,
   "metadata": {},
   "outputs": [],
   "source": [
    "# REMOVETEST\n",
    "tfb.sendTransform([-0.41720399440183237, -0.6692288088696071, 0.2904578769797458], [-0.0008742649405844391,  -0.5844689901762121,\n",
    "  0.004962406664173913,  0.8114004003593491], rospy.Time.now(), \"right_hand\", \"world\")"
   ]
  },
  {
   "cell_type": "code",
   "execution_count": 26,
   "metadata": {},
   "outputs": [
    {
     "ename": "NameError",
     "evalue": "name 'limb' is not defined",
     "output_type": "error",
     "traceback": [
      "\u001b[0;31m---------------------------------------------------------------------------\u001b[0m",
      "\u001b[0;31mNameError\u001b[0m                                 Traceback (most recent call last)",
      "\u001b[0;32m<ipython-input-26-3568286bd0a2>\u001b[0m in \u001b[0;36m<module>\u001b[0;34m()\u001b[0m\n\u001b[1;32m      2\u001b[0m \u001b[0mps\u001b[0m\u001b[0;34m.\u001b[0m\u001b[0mheader\u001b[0m\u001b[0;34m.\u001b[0m\u001b[0mstamp\u001b[0m \u001b[0;34m=\u001b[0m \u001b[0mrospy\u001b[0m\u001b[0;34m.\u001b[0m\u001b[0mTime\u001b[0m\u001b[0;34m(\u001b[0m\u001b[0;36m0\u001b[0m\u001b[0;34m)\u001b[0m\u001b[0;34m\u001b[0m\u001b[0m\n\u001b[1;32m      3\u001b[0m \u001b[0mps\u001b[0m\u001b[0;34m.\u001b[0m\u001b[0mheader\u001b[0m\u001b[0;34m.\u001b[0m\u001b[0mframe_id\u001b[0m \u001b[0;34m=\u001b[0m \u001b[0;34m\"world\"\u001b[0m\u001b[0;34m\u001b[0m\u001b[0m\n\u001b[0;32m----> 4\u001b[0;31m \u001b[0mps\u001b[0m\u001b[0;34m.\u001b[0m\u001b[0mpose\u001b[0m\u001b[0;34m.\u001b[0m\u001b[0mposition\u001b[0m\u001b[0;34m.\u001b[0m\u001b[0mx\u001b[0m \u001b[0;34m=\u001b[0m \u001b[0mlimb\u001b[0m\u001b[0;34m.\u001b[0m\u001b[0mendpoint_pose\u001b[0m\u001b[0;34m(\u001b[0m\u001b[0;34m)\u001b[0m\u001b[0;34m[\u001b[0m\u001b[0;34m\"position\"\u001b[0m\u001b[0;34m]\u001b[0m\u001b[0;34m.\u001b[0m\u001b[0mx\u001b[0m\u001b[0;34m\u001b[0m\u001b[0m\n\u001b[0m\u001b[1;32m      5\u001b[0m \u001b[0mps\u001b[0m\u001b[0;34m.\u001b[0m\u001b[0mpose\u001b[0m\u001b[0;34m.\u001b[0m\u001b[0mposition\u001b[0m\u001b[0;34m.\u001b[0m\u001b[0my\u001b[0m \u001b[0;34m=\u001b[0m \u001b[0mlimb\u001b[0m\u001b[0;34m.\u001b[0m\u001b[0mendpoint_pose\u001b[0m\u001b[0;34m(\u001b[0m\u001b[0;34m)\u001b[0m\u001b[0;34m[\u001b[0m\u001b[0;34m\"position\"\u001b[0m\u001b[0;34m]\u001b[0m\u001b[0;34m.\u001b[0m\u001b[0my\u001b[0m\u001b[0;34m\u001b[0m\u001b[0m\n\u001b[1;32m      6\u001b[0m \u001b[0mps\u001b[0m\u001b[0;34m.\u001b[0m\u001b[0mpose\u001b[0m\u001b[0;34m.\u001b[0m\u001b[0mposition\u001b[0m\u001b[0;34m.\u001b[0m\u001b[0mz\u001b[0m \u001b[0;34m=\u001b[0m \u001b[0mlimb\u001b[0m\u001b[0;34m.\u001b[0m\u001b[0mendpoint_pose\u001b[0m\u001b[0;34m(\u001b[0m\u001b[0;34m)\u001b[0m\u001b[0;34m[\u001b[0m\u001b[0;34m\"position\"\u001b[0m\u001b[0;34m]\u001b[0m\u001b[0;34m.\u001b[0m\u001b[0mz\u001b[0m\u001b[0;34m\u001b[0m\u001b[0m\n",
      "\u001b[0;31mNameError\u001b[0m: name 'limb' is not defined"
     ]
    }
   ],
   "source": [
    "ps = PoseStamped()\n",
    "ps.header.stamp = rospy.Time(0)\n",
    "ps.header.frame_id = \"world\"\n",
    "ps.pose.position.x = limb.endpoint_pose()[\"position\"].x\n",
    "ps.pose.position.y = limb.endpoint_pose()[\"position\"].y\n",
    "ps.pose.position.z = limb.endpoint_pose()[\"position\"].z\n",
    "ps.pose.orientation.z = 1\n",
    "stick_T_hand = transformations.pose_to_list(tfl.transformPose(\"right_hand\", ps))\n"
   ]
  },
  {
   "cell_type": "code",
   "execution_count": 11,
   "metadata": {},
   "outputs": [
    {
     "ename": "NameError",
     "evalue": "name 'stick_T_hand' is not defined",
     "output_type": "error",
     "traceback": [
      "\u001b[0;31m---------------------------------------------------------------------------\u001b[0m",
      "\u001b[0;31mNameError\u001b[0m                                 Traceback (most recent call last)",
      "\u001b[0;32m<ipython-input-11-2d9297a77dff>\u001b[0m in \u001b[0;36m<module>\u001b[0;34m()\u001b[0m\n\u001b[0;32m----> 1\u001b[0;31m \u001b[0mstick_T_hand\u001b[0m\u001b[0;34m[\u001b[0m\u001b[0;36m0\u001b[0m\u001b[0;34m]\u001b[0m\u001b[0;34m[\u001b[0m\u001b[0;36m2\u001b[0m\u001b[0;34m]\u001b[0m \u001b[0;34m+=\u001b[0m \u001b[0;36m0.19\u001b[0m\u001b[0;34m\u001b[0m\u001b[0m\n\u001b[0m",
      "\u001b[0;31mNameError\u001b[0m: name 'stick_T_hand' is not defined"
     ]
    }
   ],
   "source": [
    "stick_T_hand[0][2] += 0.19"
   ]
  },
  {
   "cell_type": "code",
   "execution_count": 10,
   "metadata": {},
   "outputs": [],
   "source": [
    "# REMOVETEST\n",
    "stick_T_hand = [[-4.718447854656915e-16, -7.771561172376096e-16, 0.18999999999999911],\n",
    "                [-0.0008742649405844391,\n",
    "                 -0.5844689901762121,\n",
    "                 0.004962406664173913,\n",
    "                 0.8114004003593491]]"
   ]
  },
  {
   "cell_type": "code",
   "execution_count": 11,
   "metadata": {},
   "outputs": [],
   "source": [
    "# Stick board is perpendical to the world, multiply by conjuguate\n",
    "stick_T_hand[1] = tf.transformations.quaternion_conjugate(stick_T_hand[1])"
   ]
  },
  {
   "cell_type": "code",
   "execution_count": 12,
   "metadata": {},
   "outputs": [],
   "source": [
    "# REMOVETEST\n",
    "tfb.sendTransform(stick_T_hand[0], stick_T_hand[1], rospy.Time.now(), \"sth\", \"right_hand\")"
   ]
  },
  {
   "cell_type": "code",
   "execution_count": 13,
   "metadata": {},
   "outputs": [],
   "source": [
    "ps = PoseStamped()\n",
    "ps.header.stamp = rospy.Time(0)\n",
    "ps.header.frame_id = \"right_hand\"\n",
    "ps.pose.position.x = stick_T_hand[0][0]\n",
    "ps.pose.position.y = stick_T_hand[0][1]\n",
    "ps.pose.position.z = stick_T_hand[0][2]\n",
    "ps.pose.orientation.x = stick_T_hand[1][0]\n",
    "ps.pose.orientation.y = stick_T_hand[1][1]\n",
    "ps.pose.orientation.z = stick_T_hand[1][2]\n",
    "ps.pose.orientation.w = stick_T_hand[1][3]\n",
    "stick_T_world = transformations.pose_to_list(tfl.transformPose(\"world\", ps))"
   ]
  },
  {
   "cell_type": "code",
   "execution_count": 14,
   "metadata": {},
   "outputs": [
    {
     "data": {
      "text/plain": [
       "[[-0.5974162246140444, -0.6700613865474443, 0.35064806634936585],\n",
       " [0.0, 0.0, 0.0, 1.0]]"
      ]
     },
     "execution_count": 14,
     "metadata": {},
     "output_type": "execute_result"
    }
   ],
   "source": [
    "stick_T_world "
   ]
  },
  {
   "cell_type": "code",
   "execution_count": 15,
   "metadata": {},
   "outputs": [],
   "source": [
    "tfb.sendTransform(stick_T_world[0], stick_T_world[1], rospy.Time.now(), \"sticks\", \"world\")"
   ]
  },
  {
   "cell_type": "code",
   "execution_count": 16,
   "metadata": {},
   "outputs": [
    {
     "name": "stdout",
     "output_type": "stream",
     "text": [
      "(128, '+', 128, 'sticks generated')\n"
     ]
    }
   ],
   "source": [
    "# Starting from lower left (drawing direction)\n",
    "# \n",
    "sticks = {\"hope\": [], \"fear\": []}\n",
    "y_interval = 0.01     # Interval of sticks in y direction\n",
    "z_interval = 0.02      # Interval of sticks in z direction\n",
    "group_interval = 0.01  # Interval between each group in y direction\n",
    "num_groups = 8         # Number of stick groups per line\n",
    "num_sticks = 4         # Number of sticks per group\n",
    "height_stick = 0.03    # Length in z direction\n",
    "num_height = 8         # Number of sticks in z direction (in height)\n",
    "num_points_cart = 20   # Number of cartesian points for the actual drawing motion\n",
    "\n",
    "emotion = \"fear\"\n",
    "z_stick = stick_T_world[0][2]\n",
    "col = 0\n",
    "for h in range(num_height):\n",
    "    y_stick = stick_T_world[0][1]\n",
    "    for g in range(num_groups):\n",
    "        for i in range(num_sticks):\n",
    "            # Add the end stick\n",
    "            rotation = stick_T_world[1]\n",
    "            position = [stick_T_world[0][0], y_stick, z_stick + height_stick]\n",
    "            end_stick = [position, rotation]\n",
    "            tfb.sendTransform(end_stick[0], end_stick[1], rospy.Time.now(), str(col), \"world\")\n",
    "            motion = [end_stick]\n",
    "\n",
    "            # Add the cartesian motion\n",
    "            for p in range(num_points_cart):\n",
    "                motion_point = deepcopy(end_stick)\n",
    "                motion_point[0][2] = z_stick + height_stick - height_stick * (p+1) / num_points_cart\n",
    "                motion.append(motion_point)\n",
    "                #if i == 0 and g == 0:\n",
    "                #    tfb.sendTransform(motion_point, [0, 0, 0, 1], rospy.Time.now(), str(col)+'-'+str(p), \"world\")\n",
    "            \n",
    "            sticks[emotion].append(motion)\n",
    "            y_stick += y_interval\n",
    "            col += 1\n",
    "        y_stick += group_interval\n",
    "    z_stick += z_interval + height_stick\n",
    "    if len(sticks[\"fear\"]) == num_groups*num_height*num_sticks/2:\n",
    "        emotion = \"hope\"\n",
    "        z_stick += 0.02\n",
    "print(len(sticks[\"hope\"]), \"+\", len(sticks[\"fear\"]), \"sticks generated\")"
   ]
  },
  {
   "cell_type": "code",
   "execution_count": 17,
   "metadata": {},
   "outputs": [
    {
     "data": {
      "text/plain": [
       "[[[-0.5974162246140444, -0.5500613865474442, 0.3806480663493659],\n",
       "  [0.0, 0.0, 0.0, 1.0]],\n",
       " [[-0.5974162246140444, -0.5500613865474442, 0.3791480663493659],\n",
       "  [0.0, 0.0, 0.0, 1.0]],\n",
       " [[-0.5974162246140444, -0.5500613865474442, 0.3776480663493659],\n",
       "  [0.0, 0.0, 0.0, 1.0]],\n",
       " [[-0.5974162246140444, -0.5500613865474442, 0.3761480663493659],\n",
       "  [0.0, 0.0, 0.0, 1.0]],\n",
       " [[-0.5974162246140444, -0.5500613865474442, 0.37464806634936587],\n",
       "  [0.0, 0.0, 0.0, 1.0]],\n",
       " [[-0.5974162246140444, -0.5500613865474442, 0.37314806634936587],\n",
       "  [0.0, 0.0, 0.0, 1.0]],\n",
       " [[-0.5974162246140444, -0.5500613865474442, 0.37164806634936587],\n",
       "  [0.0, 0.0, 0.0, 1.0]],\n",
       " [[-0.5974162246140444, -0.5500613865474442, 0.37014806634936587],\n",
       "  [0.0, 0.0, 0.0, 1.0]],\n",
       " [[-0.5974162246140444, -0.5500613865474442, 0.36864806634936587],\n",
       "  [0.0, 0.0, 0.0, 1.0]],\n",
       " [[-0.5974162246140444, -0.5500613865474442, 0.36714806634936586],\n",
       "  [0.0, 0.0, 0.0, 1.0]],\n",
       " [[-0.5974162246140444, -0.5500613865474442, 0.36564806634936586],\n",
       "  [0.0, 0.0, 0.0, 1.0]],\n",
       " [[-0.5974162246140444, -0.5500613865474442, 0.36414806634936586],\n",
       "  [0.0, 0.0, 0.0, 1.0]],\n",
       " [[-0.5974162246140444, -0.5500613865474442, 0.36264806634936586],\n",
       "  [0.0, 0.0, 0.0, 1.0]],\n",
       " [[-0.5974162246140444, -0.5500613865474442, 0.36114806634936586],\n",
       "  [0.0, 0.0, 0.0, 1.0]],\n",
       " [[-0.5974162246140444, -0.5500613865474442, 0.35964806634936586],\n",
       "  [0.0, 0.0, 0.0, 1.0]],\n",
       " [[-0.5974162246140444, -0.5500613865474442, 0.35814806634936586],\n",
       "  [0.0, 0.0, 0.0, 1.0]],\n",
       " [[-0.5974162246140444, -0.5500613865474442, 0.35664806634936586],\n",
       "  [0.0, 0.0, 0.0, 1.0]],\n",
       " [[-0.5974162246140444, -0.5500613865474442, 0.35514806634936585],\n",
       "  [0.0, 0.0, 0.0, 1.0]],\n",
       " [[-0.5974162246140444, -0.5500613865474442, 0.35364806634936585],\n",
       "  [0.0, 0.0, 0.0, 1.0]],\n",
       " [[-0.5974162246140444, -0.5500613865474442, 0.3521480663493659],\n",
       "  [0.0, 0.0, 0.0, 1.0]],\n",
       " [[-0.5974162246140444, -0.5500613865474442, 0.35064806634936585],\n",
       "  [0.0, 0.0, 0.0, 1.0]]]"
      ]
     },
     "execution_count": 17,
     "metadata": {},
     "output_type": "execute_result"
    }
   ],
   "source": [
    "sticks['fear'][10]"
   ]
  },
  {
   "cell_type": "markdown",
   "metadata": {},
   "source": [
    "# Cartesian sticks"
   ]
  },
  {
   "cell_type": "code",
   "execution_count": 18,
   "metadata": {},
   "outputs": [],
   "source": [
    "hand_T_stick = transformations.inverse_transform(stick_T_hand)"
   ]
  },
  {
   "cell_type": "code",
   "execution_count": 19,
   "metadata": {},
   "outputs": [
    {
     "data": {
      "text/plain": [
       "[[0.18021223021221203, 0.0008325776778371461, -0.06019018936962003],\n",
       " array([-0.00087426, -0.58446899,  0.00496241,  0.8114004 ])]"
      ]
     },
     "execution_count": 19,
     "metadata": {},
     "output_type": "execute_result"
    }
   ],
   "source": [
    "hand_T_stick"
   ]
  },
  {
   "cell_type": "code",
   "execution_count": 20,
   "metadata": {},
   "outputs": [],
   "source": [
    "tfb.sendTransform(hand_T_stick[0], hand_T_stick[1], rospy.Time.now(), \"hts\", \"192\")"
   ]
  },
  {
   "cell_type": "code",
   "execution_count": 31,
   "metadata": {},
   "outputs": [],
   "source": [
    "stick_fk = {\"hope\" : [], \"fear\": [], \"joints\": []}\n",
    "seed = None\n",
    "for emotion in [\"hope\", \"fear\"]:\n",
    "    for stick_id, stick in enumerate(sticks[emotion]):\n",
    "        motion = []\n",
    "        for point_id, point in enumerate(stick):\n",
    "            hand_T_world = transformations.multiply_transform(point, hand_T_stick)\n",
    "            tfb.sendTransform(hand_T_world[0], hand_T_world[1], rospy.Time.now(), \"eik\", world)\n",
    "            rospy.sleep(0.01)\n",
    "            # REMOVETEST UNCOMMENT\n",
    "            #result = limb.ik_request(transformations.list_to_pose(hand_T_world), joint_seed=seed)\n",
    "            #if result == False:\n",
    "            #    raise RuntimeError(emotion + \": can't compute stick start \" + str(stick_id))\n",
    "            #else:\n",
    "            #    motion.append(result.values())\n",
    "            #    seed = result\n",
    "        #stick_fk[emotion].append(motion)\n",
    "        #stick_fk[\"joints\"] = result.keys()\n",
    "        #rospy.sleep(0.1)"
   ]
  },
  {
   "cell_type": "code",
   "execution_count": 186,
   "metadata": {},
   "outputs": [],
   "source": [
    "with open(\"../config/motions.json\", \"w\") as f:\n",
    "    json.dump(stick_fk, f)"
   ]
  },
  {
   "cell_type": "markdown",
   "metadata": {},
   "source": [
    "# Reload cartesian sticks"
   ]
  },
  {
   "cell_type": "code",
   "execution_count": 11,
   "metadata": {},
   "outputs": [],
   "source": [
    "with open(\"../config/motions.json\") as f:\n",
    "    stick_fk = json.load(f)"
   ]
  },
  {
   "cell_type": "code",
   "execution_count": 12,
   "metadata": {},
   "outputs": [],
   "source": [
    "from intera_motion_interface import (\n",
    "    MotionTrajectory,\n",
    "    MotionWaypoint,\n",
    "    MotionWaypointOptions\n",
    ")"
   ]
  },
  {
   "cell_type": "code",
   "execution_count": 13,
   "metadata": {},
   "outputs": [],
   "source": [
    "traj  = MotionTrajectory()"
   ]
  },
  {
   "cell_type": "code",
   "execution_count": 24,
   "metadata": {},
   "outputs": [],
   "source": [
    "traj.set_joint_names(stick_fk[\"joints\"])\n",
    "traj."
   ]
  },
  {
   "cell_type": "code",
   "execution_count": 25,
   "metadata": {},
   "outputs": [],
   "source": [
    "for point in stick_fk[\"hope\"][0]:\n",
    "    waypoint = MotionWaypoint(ma)\n",
    "    waypoint.set_joint_angles(point)\n",
    "    traj.append_waypoint(waypoint)"
   ]
  },
  {
   "cell_type": "code",
   "execution_count": 27,
   "metadata": {},
   "outputs": [
    {
     "data": {
      "text/plain": [
       "result: True\n",
       "errorId: ''\n",
       "trajectory_analysis: \n",
       "  planned_duration: 4.09254180956\n",
       "  measured_duration: 4.099870243\n",
       "  min_angle_command: [0.6436005593905485, -1.8083957825243826, 1.04663495132743, 1.0935538557482565, -3.0225999873378693, -2.549719594979685, 1.5895995374984153]\n",
       "  max_angle_command: [0.6805687632735085, 1.1754943508222875e-38, 1.0553534042121082, 1.109561937467399, 1.1754943508222875e-38, 1.1754943508222875e-38, 1.6007634731370282]\n",
       "  peak_speed_command: [0.1516398975064467, 0.10858441551787587, 0.035762209929474084, 0.06566355988529682, 0.07535013896571861, 0.12243219121370731, 0.045793356369000254]\n",
       "  peak_accel_command: [1.2253422532503047, 0.8774278706755578, 0.28898032520978995, 0.5306013506298057, 0.6088747788757376, 0.9893262889194343, 0.3700380664969747]\n",
       "  peak_jerk_command: [10.649847802654358, 7.748108409003397, 4.830533143059915, 5.124832771628908, 5.646023849003435, 8.248532415716207, 3.5333986226465397]\n",
       "  min_time_rate: 1.0\n",
       "  max_time_rate: 1.0\n",
       "  max_position_error: [0.0016205583774995258, 0.003108637736306541, 0.0015732030256798701, 0.0025362462943343544, 0.004974734279594273, 0.008031578394938066, 0.006401370397695505]\n",
       "  max_velocity_error: [0.0185535967146783, 0.041203836399222524, 0.024603326249500557, 0.03703810138966785, 0.057283181383291935, 0.09910566650674213, 0.10159567301414796]\n",
       "last_successful_waypoint: 20"
      ]
     },
     "execution_count": 27,
     "metadata": {},
     "output_type": "execute_result"
    }
   ],
   "source": [
    "traj.send_trajectory(timeout=20)"
   ]
  },
  {
   "cell_type": "code",
   "execution_count": 28,
   "metadata": {},
   "outputs": [],
   "source": [
    "traj.clear_waypoints()"
   ]
  },
  {
   "cell_type": "code",
   "execution_count": 29,
   "metadata": {},
   "outputs": [],
   "source": [
    "w = MotionWaypoint()"
   ]
  },
  {
   "cell_type": "code",
   "execution_count": 30,
   "metadata": {},
   "outputs": [],
   "source": [
    "traj.set_joint_names(hope_lower_left.keys())\n",
    "w.set_joint_angles(hope_lower_left.values())"
   ]
  },
  {
   "cell_type": "code",
   "execution_count": 31,
   "metadata": {},
   "outputs": [],
   "source": [
    "traj.append_waypoint(w)"
   ]
  },
  {
   "cell_type": "code",
   "execution_count": 32,
   "metadata": {},
   "outputs": [
    {
     "data": {
      "text/plain": [
       "result: True\n",
       "errorId: ''\n",
       "trajectory_analysis: \n",
       "  planned_duration: 0.92698697522\n",
       "  measured_duration: 0.929326811\n",
       "  min_angle_command: [0.6805718709535935, -1.9838242187594355, 1.046635579108908, 1.1095629499611237, -3.0216201132786344, -2.756792968581033, 1.5895996571901037]\n",
       "  max_angle_command: [1.0612880859375, 1.1754943508222875e-38, 1.1610488281253692, 1.2968300781249995, 1.1754943508222875e-38, 1.1754943508222875e-38, 1.6117968738349906]\n",
       "  peak_speed_command: [0.7084717308368675, 0.37842880559743924, 0.2468132366852051, 0.40397512051011786, 0.0375130937997645, 0.44669918035683526, 0.04788414741695481]\n",
       "  peak_accel_command: [2.525521240364423, 1.2517726003458554, 0.9414482266034151, 1.6576309408666876, 0.16054496039042834, 1.91174054050629, 0.20493000634441685]\n",
       "  peak_jerk_command: [23.152732604838953, 7.768764871376634, 4.677076241363913, 7.543246353955295, 0.698587915175077, 8.318659366822375, 0.8917229512580622]\n",
       "  min_time_rate: 1.0\n",
       "  max_time_rate: 1.0\n",
       "  max_position_error: [0.0022039108318474554, 0.00494429039068045, 0.001208889847040595, 0.010021288622022784, 0.009181023826027257, 0.0059167934544601675, 0.01613300442722232]\n",
       "  max_velocity_error: [0.023250889013750393, 0.05341649167481449, 0.030813671257954017, 0.08250073693034549, 0.1068911221045467, 0.08222231148927034, 0.12048468536110196]\n",
       "last_successful_waypoint: 0"
      ]
     },
     "execution_count": 32,
     "metadata": {},
     "output_type": "execute_result"
    }
   ],
   "source": [
    "traj.send_trajectory(timeout=10)"
   ]
  },
  {
   "cell_type": "markdown",
   "metadata": {},
   "source": [
    "# Overwrite other poses"
   ]
  },
  {
   "cell_type": "code",
   "execution_count": null,
   "metadata": {},
   "outputs": [],
   "source": [
    "# Pause pose\n",
    "poses = {\"pause\": limb.joint_angles()}\n",
    "\n",
    "with open(\"../config/poses.json\", \"w\") as f:\n",
    "    json.dump(poses, f, indent=4)"
   ]
  },
  {
   "cell_type": "code",
   "execution_count": 17,
   "metadata": {},
   "outputs": [],
   "source": [
    "with open(\"../config/poses.json\") as f:\n",
    "    poses = json.load(f)"
   ]
  },
  {
   "cell_type": "code",
   "execution_count": null,
   "metadata": {},
   "outputs": [],
   "source": [
    "limb.move_to_joint_positions(poses[\"pause\"])"
   ]
  },
  {
   "cell_type": "code",
   "execution_count": 18,
   "metadata": {},
   "outputs": [
    {
     "data": {
      "text/plain": [
       "{u'pause': {u'right_j0': 2.462169921875,\n",
       "  u'right_j1': -3.327517578125,\n",
       "  u'right_j2': -2.2095576171875,\n",
       "  u'right_j3': -1.52369140625,\n",
       "  u'right_j4': 0.1305107421875,\n",
       "  u'right_j5': -1.00734375,\n",
       "  u'right_j6': -0.2455576171875}}"
      ]
     },
     "execution_count": 18,
     "metadata": {},
     "output_type": "execute_result"
    }
   ],
   "source": [
    "poses"
   ]
  },
  {
   "cell_type": "markdown",
   "metadata": {},
   "source": [
    "# Display sticks"
   ]
  },
  {
   "cell_type": "code",
   "execution_count": null,
   "metadata": {},
   "outputs": [],
   "source": [
    "with open(\"../config/sticks_target_ik.json\") as f:\n",
    "    sticks = json.load(f)"
   ]
  },
  {
   "cell_type": "code",
   "execution_count": null,
   "metadata": {},
   "outputs": [],
   "source": [
    "from sensor_msgs.msg import JointState\n",
    "p = rospy.Publisher(\"display/joint_states\", JointState, queue_size=1)"
   ]
  },
  {
   "cell_type": "code",
   "execution_count": null,
   "metadata": {},
   "outputs": [],
   "source": [
    "type = 'fear'\n",
    "side = 'end'\n",
    "for i, pose in enumerate(sticks[type]):\n",
    "    js = JointState()\n",
    "    js.header.stamp = rospy.Time.now()\n",
    "    js.name = pose[side].keys()\n",
    "    js.position = pose[side].values()\n",
    "    p.publish(js)\n",
    "    input = raw_input('Press to display {} pose {} of [q to quit] '.format(side, i, type))\n",
    "    if input == 'q': break"
   ]
  },
  {
   "cell_type": "code",
   "execution_count": null,
   "metadata": {},
   "outputs": [],
   "source": [
    "sticks"
   ]
  },
  {
   "cell_type": "code",
   "execution_count": null,
   "metadata": {},
   "outputs": [],
   "source": [
    "tf.transformations."
   ]
  }
 ],
 "metadata": {
  "kernelspec": {
   "display_name": "Python 2",
   "language": "python",
   "name": "python2"
  },
  "language_info": {
   "codemirror_mode": {
    "name": "ipython",
    "version": 2
   },
   "file_extension": ".py",
   "mimetype": "text/x-python",
   "name": "python",
   "nbconvert_exporter": "python",
   "pygments_lexer": "ipython2",
   "version": "2.7.15rc1"
  }
 },
 "nbformat": 4,
 "nbformat_minor": 2
}
