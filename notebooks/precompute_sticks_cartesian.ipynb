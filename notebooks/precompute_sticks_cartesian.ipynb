{
 "cells": [
  {
   "cell_type": "code",
   "execution_count": 1,
   "metadata": {},
   "outputs": [],
   "source": [
    "import intera_interface\n",
    "import rospy\n",
    "import json\n",
    "import tf\n",
    "from copy import deepcopy\n",
    "from sawyer import transformations\n",
    "from os import environ"
   ]
  },
  {
   "cell_type": "code",
   "execution_count": 2,
   "metadata": {},
   "outputs": [],
   "source": [
    "environ['ROS_MASTER_URI'] = 'http://021607CP00116.local:11311'"
   ]
  },
  {
   "cell_type": "code",
   "execution_count": 3,
   "metadata": {},
   "outputs": [],
   "source": [
    "environ['ROS_HOSTNAME'] = 'mingew.local'"
   ]
  },
  {
   "cell_type": "code",
   "execution_count": 4,
   "metadata": {},
   "outputs": [],
   "source": [
    "rospy.init_node(\"sawyer_example\")"
   ]
  },
  {
   "cell_type": "code",
   "execution_count": 5,
   "metadata": {},
   "outputs": [],
   "source": [
    "effector = \"right_hand\"\n",
    "world = \"world\""
   ]
  },
  {
   "cell_type": "code",
   "execution_count": 6,
   "metadata": {},
   "outputs": [],
   "source": [
    "tfl = tf.TransformListener(interpolate=True, cache_time=rospy.Duration(1000))\n",
    "tfb = tf.TransformBroadcaster()"
   ]
  },
  {
   "cell_type": "code",
   "execution_count": 7,
   "metadata": {},
   "outputs": [],
   "source": [
    "rs = intera_interface.RobotEnable(intera_interface.CHECK_VERSION)"
   ]
  },
  {
   "cell_type": "code",
   "execution_count": 8,
   "metadata": {},
   "outputs": [
    {
     "name": "stdout",
     "output_type": "stream",
     "text": [
      "[INFO] [1555255256.171759]: Robot Enabled\n"
     ]
    }
   ],
   "source": [
    "rs.enable()"
   ]
  },
  {
   "cell_type": "code",
   "execution_count": 9,
   "metadata": {},
   "outputs": [],
   "source": [
    "limb = intera_interface.Limb('right')"
   ]
  },
  {
   "cell_type": "markdown",
   "metadata": {},
   "source": [
    "# Compute sticks in cartesian space"
   ]
  },
  {
   "cell_type": "code",
   "execution_count": 10,
   "metadata": {},
   "outputs": [],
   "source": [
    "# Base is [\"lower\"][\"left\"][0] for HOPE\n",
    "base_position = [-0.5, -0.7, 0.35]\n"
   ]
  },
  {
   "cell_type": "code",
   "execution_count": 11,
   "metadata": {},
   "outputs": [
    {
     "name": "stdout",
     "output_type": "stream",
     "text": [
      "(128, '+', 128, 'sticks generated')\n"
     ]
    }
   ],
   "source": [
    "# Starting from lower left (drawing direction)\n",
    "# \n",
    "sticks = {\"hope\": [], \"fear\": []}\n",
    "y_interval = 0.01     # Interval of sticks in y direction\n",
    "z_interval = 0.02      # Interval of sticks in z direction\n",
    "group_interval = 0.01  # Interval between each group in y direction\n",
    "num_groups = 8         # Number of stick groups per line\n",
    "num_sticks = 4         # Number of sticks per group\n",
    "height_stick = 0.03    # Length in z direction\n",
    "num_height = 8         # Number of sticks in z direction (in height)\n",
    "num_points_cart = 1   # Number of cartesian points for the actual drawing motion\n",
    "\n",
    "emotion = \"fear\"\n",
    "z_stick = base_position[2]\n",
    "col = 0\n",
    "for h in range(num_height):\n",
    "    y_stick = base_position[1]\n",
    "    for g in range(num_groups):\n",
    "        for i in range(num_sticks):\n",
    "            # Add the end stick\n",
    "            end_stick = [base_position[0], y_stick, z_stick + height_stick]\n",
    "            tfb.sendTransform(end_stick, [0, 0, 0, 1], rospy.Time.now(), str(col), \"world\")\n",
    "            motion = [end_stick]\n",
    "\n",
    "            # Add the cartesian motion\n",
    "            for p in range(num_points_cart):\n",
    "                motion_point = deepcopy(end_stick)\n",
    "                motion_point[2] = z_stick + height_stick - height_stick * (p+1) / num_points_cart\n",
    "                motion.append(motion_point)\n",
    "                #if i == 0 and g == 0:\n",
    "                #    tfb.sendTransform(motion_point, [0, 0, 0, 1], rospy.Time.now(), str(col)+'-'+str(p), \"world\")\n",
    "            \n",
    "            sticks[emotion].append(motion)\n",
    "            y_stick += y_interval\n",
    "            col += 1\n",
    "        y_stick += group_interval\n",
    "    z_stick += z_interval + height_stick\n",
    "    if len(sticks[\"fear\"]) == num_groups*num_height*num_sticks/2:\n",
    "        emotion = \"hope\"\n",
    "        z_stick += 0.02\n",
    "print(len(sticks[\"hope\"]), \"+\", len(sticks[\"fear\"]), \"sticks generated\")"
   ]
  },
  {
   "cell_type": "code",
   "execution_count": 12,
   "metadata": {},
   "outputs": [
    {
     "data": {
      "text/plain": [
       "[[-0.5, -0.7, 0.38], [-0.5, -0.7, 0.35]]"
      ]
     },
     "execution_count": 12,
     "metadata": {},
     "output_type": "execute_result"
    }
   ],
   "source": [
    "sticks['fear'][0]"
   ]
  },
  {
   "cell_type": "markdown",
   "metadata": {},
   "source": [
    "# Cartesian sticks"
   ]
  },
  {
   "cell_type": "code",
   "execution_count": 13,
   "metadata": {},
   "outputs": [],
   "source": [
    "hand_T_stick = [[0.14239612794977008, 0.01701314337065485, -0.07630844138995452],\n",
    " [0.5270677868272005,\n",
    "  0.023880201241985057,\n",
    "  -0.8461224120032248,\n",
    "  0.07553904939543005]]"
   ]
  },
  {
   "cell_type": "code",
   "execution_count": 14,
   "metadata": {},
   "outputs": [],
   "source": [
    "stick_fk = {\"hope\" : [], \"fear\": []}\n",
    "for emotion in stick_fk:\n",
    "    for stick_id, stick in enumerate(sticks[emotion]):\n",
    "        stamp = rospy.Time.now()\n",
    "        points = []\n",
    "        for point_id, point in enumerate(stick):\n",
    "            stamp += rospy.Duration(point_id*5)\n",
    "            hand_T_world = transformations.multiply_transform([point, [0,0,0,1]], hand_T_stick)\n",
    "            tfb.sendTransform(hand_T_world[0], hand_T_world[1], rospy.Time.now(), \"eik\", world)\n",
    "            points.append(transformations.list_to_pose_stamped(hand_T_world, frame_id=\"world\"))\n",
    "        stick_fk[emotion].append(points)\n",
    "        #rospy.sleep(0.1)"
   ]
  },
  {
   "cell_type": "code",
   "execution_count": 15,
   "metadata": {},
   "outputs": [
    {
     "data": {
      "text/plain": [
       "[header: \n",
       "   seq: 0\n",
       "   stamp: \n",
       "     secs: 0\n",
       "     nsecs:         0\n",
       "   frame_id: \"world\"\n",
       " pose: \n",
       "   position: \n",
       "     x: -0.3576038720502299\n",
       "     y: -0.6829868566293451\n",
       "     z: 0.5236915586100455\n",
       "   orientation: \n",
       "     x: 0.5270677868272005\n",
       "     y: 0.023880201241985057\n",
       "     z: -0.8461224120032248\n",
       "     w: 0.07553904939543005, header: \n",
       "   seq: 0\n",
       "   stamp: \n",
       "     secs: 0\n",
       "     nsecs:         0\n",
       "   frame_id: \"world\"\n",
       " pose: \n",
       "   position: \n",
       "     x: -0.3576038720502299\n",
       "     y: -0.6829868566293451\n",
       "     z: 0.49369155861004543\n",
       "   orientation: \n",
       "     x: 0.5270677868272005\n",
       "     y: 0.023880201241985057\n",
       "     z: -0.8461224120032248\n",
       "     w: 0.07553904939543005]"
      ]
     },
     "execution_count": 15,
     "metadata": {},
     "output_type": "execute_result"
    }
   ],
   "source": [
    "stick_fk[\"hope\"][0]"
   ]
  },
  {
   "cell_type": "code",
   "execution_count": 16,
   "metadata": {},
   "outputs": [],
   "source": [
    "tfb.sendTransform(transformations.pose_to_list(stick_fk['hope'][0][0])[0],\n",
    "                  transformations.pose_to_list(stick_fk['hope'][0][0])[1], rospy.Time.now(), \"eik\", world)"
   ]
  },
  {
   "cell_type": "code",
   "execution_count": 17,
   "metadata": {},
   "outputs": [],
   "source": [
    "from intera_motion_interface import (\n",
    "    MotionTrajectory,\n",
    "    MotionWaypoint,\n",
    "    MotionWaypointOptions\n",
    ")"
   ]
  },
  {
   "cell_type": "code",
   "execution_count": 18,
   "metadata": {},
   "outputs": [],
   "source": [
    "from intera_motion_msgs.msg import TrajectoryOptions"
   ]
  },
  {
   "cell_type": "code",
   "execution_count": 27,
   "metadata": {},
   "outputs": [],
   "source": [
    "traj  = MotionTrajectory(limb=limb)"
   ]
  },
  {
   "cell_type": "code",
   "execution_count": 28,
   "metadata": {},
   "outputs": [],
   "source": [
    "joint_angles = limb.joint_ordered_angles()"
   ]
  },
  {
   "cell_type": "code",
   "execution_count": 45,
   "metadata": {},
   "outputs": [],
   "source": [
    "waypoint = MotionWaypoint(limb=limb)\n",
    "waypoint.set_joint_angles(joint_angles)\n",
    "traj.append_waypoint(waypoint)"
   ]
  },
  {
   "cell_type": "code",
   "execution_count": 21,
   "metadata": {},
   "outputs": [],
   "source": [
    "waypoint = MotionWaypoint(limb=limb)\n",
    "waypoint.set_cartesian_pose(stick_fk[\"hope\"][0][0], joint_angles=joint_angles)\n",
    "traj.append_waypoint(waypoint)"
   ]
  },
  {
   "cell_type": "code",
   "execution_count": 22,
   "metadata": {},
   "outputs": [],
   "source": [
    "waypoint = MotionWaypoint(limb=limb)\n",
    "waypoint.set_cartesian_pose(stick_fk[\"hope\"][0][1], joint_angles=joint_angles)\n",
    "traj.append_waypoint(waypoint)"
   ]
  },
  {
   "cell_type": "code",
   "execution_count": 23,
   "metadata": {},
   "outputs": [],
   "source": [
    "opts = TrajectoryOptions(interpolation_type=TrajectoryOptions.CARTESIAN)"
   ]
  },
  {
   "cell_type": "code",
   "execution_count": 24,
   "metadata": {},
   "outputs": [],
   "source": [
    "traj.set_trajectory_options(opts)"
   ]
  },
  {
   "cell_type": "code",
   "execution_count": 46,
   "metadata": {},
   "outputs": [
    {
     "data": {
      "text/plain": [
       "result: True\n",
       "errorId: ''\n",
       "trajectory_analysis: \n",
       "  planned_duration: 0.007\n",
       "  measured_duration: 0.009379551\n",
       "  min_angle_command: [1.6275419921875, -2.6035751953125, -3.030283203125, 0.9002783203125, 1.14769921875, -1.8767021484375, 0.6463701171875]\n",
       "  max_angle_command: [1.6275419921875, 1.1754943508222875e-38, 1.1754943508222875e-38, 0.9002783203125, 1.14769921875, 1.1754943508222875e-38, 0.6463701171875]\n",
       "  peak_speed_command: [0.0, 0.0, 0.0, 0.0, 0.0, 0.0, 0.0]\n",
       "  peak_accel_command: [0.0, 0.0, 0.0, 0.0, 0.0, 0.0, 0.0]\n",
       "  peak_jerk_command: [0.0, 0.0, 0.0, 0.0, 0.0, 0.0, 0.0]\n",
       "  min_time_rate: 1.0\n",
       "  max_time_rate: 1.0\n",
       "  max_position_error: [0.0007197265625000782, 0.00010253906250001776, 0.0, 0.0, 0.0, 0.00020605468750001243, 0.0]\n",
       "  max_velocity_error: [0.001, 0.001, 0.001, 0.001, 0.001, 0.001, 0.001]\n",
       "last_successful_waypoint: 13"
      ]
     },
     "execution_count": 46,
     "metadata": {},
     "output_type": "execute_result"
    }
   ],
   "source": [
    "traj.send_trajectory(timeout=3)"
   ]
  },
  {
   "cell_type": "code",
   "execution_count": 30,
   "metadata": {},
   "outputs": [
    {
     "data": {
      "text/plain": [
       "label: \"default\"\n",
       "joint_names: [right_j0, right_j1, right_j2, right_j3, right_j4, right_j5, right_j6]\n",
       "waypoints: \n",
       "  - \n",
       "    joint_positions: [1.6275419921875, -2.6035751953125, -3.030283203125, 0.9002783203125, 1.14769921875, -1.8767021484375, 0.6463701171875]\n",
       "    active_endpoint: \"right_hand\"\n",
       "    pose: \n",
       "      header: \n",
       "        seq: 0\n",
       "        stamp: \n",
       "          secs: 0\n",
       "          nsecs:         0\n",
       "        frame_id: ''\n",
       "      pose: \n",
       "        position: \n",
       "          x: 0.0\n",
       "          y: 0.0\n",
       "          z: 0.0\n",
       "        orientation: \n",
       "          x: 0.0\n",
       "          y: 0.0\n",
       "          z: 0.0\n",
       "          w: 0.0\n",
       "    options: \n",
       "      label: \"default\"\n",
       "      max_joint_speed_ratio: 0.7\n",
       "      joint_tolerances: []\n",
       "      max_joint_accel: [7.0, 5.0, 8.0, 8.0, 8.0, 8.0, 8.0]\n",
       "      max_linear_speed: 0.6\n",
       "      max_linear_accel: 0.6\n",
       "      max_rotational_speed: 1.57\n",
       "      max_rotational_accel: 1.57\n",
       "      corner_distance: 0.0\n",
       "trajectory_options: \n",
       "  interpolation_type: \"JOINT\"\n",
       "  interaction_control: False\n",
       "  interaction_params: \n",
       "    header: \n",
       "      seq: 0\n",
       "      stamp: \n",
       "        secs: 0\n",
       "        nsecs:         0\n",
       "      frame_id: ''\n",
       "    interaction_control_active: False\n",
       "    K_impedance: []\n",
       "    max_impedance: []\n",
       "    D_impedance: []\n",
       "    K_nullspace: []\n",
       "    force_command: []\n",
       "    interaction_frame: \n",
       "      position: \n",
       "        x: 0.0\n",
       "        y: 0.0\n",
       "        z: 0.0\n",
       "      orientation: \n",
       "        x: 0.0\n",
       "        y: 0.0\n",
       "        z: 0.0\n",
       "        w: 0.0\n",
       "    endpoint_name: ''\n",
       "    in_endpoint_frame: False\n",
       "    disable_damping_in_force_control: False\n",
       "    disable_reference_resetting: False\n",
       "    interaction_control_mode: []\n",
       "    rotations_for_constrained_zeroG: False\n",
       "  nso_start_offset_allowed: False\n",
       "  nso_check_end_offset: False\n",
       "  tracking_options: \n",
       "    use_min_time_rate: False\n",
       "    min_time_rate: 0.0\n",
       "    use_max_time_rate: False\n",
       "    max_time_rate: 0.0\n",
       "    goal_joint_tolerance: []\n",
       "    use_settling_time_at_goal: False\n",
       "    settling_time_at_goal: 0.0\n",
       "  end_time: \n",
       "    secs: 0\n",
       "    nsecs:         0\n",
       "  path_interpolation_step: 0.0"
      ]
     },
     "execution_count": 30,
     "metadata": {},
     "output_type": "execute_result"
    }
   ],
   "source": [
    "traj.to_msg()"
   ]
  },
  {
   "cell_type": "markdown",
   "metadata": {},
   "source": [
    "# Overwrite other poses"
   ]
  },
  {
   "cell_type": "code",
   "execution_count": null,
   "metadata": {},
   "outputs": [],
   "source": [
    "# Pause pose\n",
    "poses = {\"pause\": limb.joint_angles()}\n",
    "\n",
    "with open(\"../config/poses.json\", \"w\") as f:\n",
    "    json.dump(poses, f, indent=4)"
   ]
  },
  {
   "cell_type": "code",
   "execution_count": 17,
   "metadata": {},
   "outputs": [],
   "source": [
    "with open(\"../config/poses.json\") as f:\n",
    "    poses = json.load(f)"
   ]
  },
  {
   "cell_type": "code",
   "execution_count": null,
   "metadata": {},
   "outputs": [],
   "source": [
    "limb.move_to_joint_positions(poses[\"pause\"])"
   ]
  },
  {
   "cell_type": "code",
   "execution_count": 18,
   "metadata": {},
   "outputs": [
    {
     "data": {
      "text/plain": [
       "{u'pause': {u'right_j0': 2.462169921875,\n",
       "  u'right_j1': -3.327517578125,\n",
       "  u'right_j2': -2.2095576171875,\n",
       "  u'right_j3': -1.52369140625,\n",
       "  u'right_j4': 0.1305107421875,\n",
       "  u'right_j5': -1.00734375,\n",
       "  u'right_j6': -0.2455576171875}}"
      ]
     },
     "execution_count": 18,
     "metadata": {},
     "output_type": "execute_result"
    }
   ],
   "source": [
    "poses"
   ]
  },
  {
   "cell_type": "markdown",
   "metadata": {},
   "source": [
    "# Display sticks"
   ]
  },
  {
   "cell_type": "code",
   "execution_count": null,
   "metadata": {},
   "outputs": [],
   "source": [
    "with open(\"../config/sticks_target_ik.json\") as f:\n",
    "    sticks = json.load(f)"
   ]
  },
  {
   "cell_type": "code",
   "execution_count": null,
   "metadata": {},
   "outputs": [],
   "source": [
    "from sensor_msgs.msg import JointState\n",
    "p = rospy.Publisher(\"display/joint_states\", JointState, queue_size=1)"
   ]
  },
  {
   "cell_type": "code",
   "execution_count": null,
   "metadata": {},
   "outputs": [],
   "source": [
    "type = 'fear'\n",
    "side = 'end'\n",
    "for i, pose in enumerate(sticks[type]):\n",
    "    js = JointState()\n",
    "    js.header.stamp = rospy.Time.now()\n",
    "    js.name = pose[side].keys()\n",
    "    js.position = pose[side].values()\n",
    "    p.publish(js)\n",
    "    input = raw_input('Press to display {} pose {} of [q to quit] '.format(side, i, type))\n",
    "    if input == 'q': break"
   ]
  },
  {
   "cell_type": "code",
   "execution_count": null,
   "metadata": {},
   "outputs": [],
   "source": [
    "sticks"
   ]
  },
  {
   "cell_type": "code",
   "execution_count": null,
   "metadata": {},
   "outputs": [],
   "source": []
  }
 ],
 "metadata": {
  "kernelspec": {
   "display_name": "Python 2",
   "language": "python",
   "name": "python2"
  },
  "language_info": {
   "codemirror_mode": {
    "name": "ipython",
    "version": 2
   },
   "file_extension": ".py",
   "mimetype": "text/x-python",
   "name": "python",
   "nbconvert_exporter": "python",
   "pygments_lexer": "ipython2",
   "version": "2.7.15rc1"
  }
 },
 "nbformat": 4,
 "nbformat_minor": 2
}
